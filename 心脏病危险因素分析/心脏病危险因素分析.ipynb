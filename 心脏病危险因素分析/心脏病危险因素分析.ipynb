{
 "cells": [
  {
   "cell_type": "markdown",
   "metadata": {},
   "source": [
    "# 导致心脏病数据科学项目"
   ]
  },
  {
   "cell_type": "markdown",
   "metadata": {},
   "source": [
    "\n",
    "# 介绍\n",
    "心脏病是男女死亡的主要原因。在美国，每年有61万人死于心脏病，占所有死亡人数的四分之一。冠心病是最常见的一种心脏病，它会导致流向心脏的血液减少，每年夺去37万人的生命。一些生理因素导致心脏病，如高胆固醇和高血压(CDC, 2015)。\n",
    "该数据集包含关于患者和各种变量的信息，以及指定患者是否有超过50%的导致心脏闭塞的动脉的目标变量。50%的阈值是明显狭窄的指示，是心脏病学家和其他内科医生进一步诊断的标志,\n",
    "数据集中的不同变量，并回答以下问题:\n",
    "有多少个体变量与直径变窄相关?(相关结果以蓝色显示)\n",
    "男性和女性之间的变量是什么?(相关结果以黄色标示)\n",
    "此外，分析将呈现和比较使用决策树预测患者是否有50%的>狭窄。"
   ]
  },
  {
   "cell_type": "code",
   "execution_count": 1,
   "metadata": {},
   "outputs": [],
   "source": [
    "\n",
    "import warnings\n",
    "warnings.filterwarnings('ignore')\n",
    "import pandas as pd\n",
    "import numpy as np\n",
    "import matplotlib.pyplot as plt\n",
    "import scipy as sci\n",
    "import seaborn as sns\n",
    "import math\n",
    "from sklearn.tree import DecisionTreeClassifier\n",
    "from sklearn.metrics import accuracy_score\n",
    "from sklearn.metrics import roc_auc_score\n",
    "from sklearn.metrics import roc_curve, auc\n",
    "\n",
    "from IPython.display import Image  \n",
    "from sklearn.tree import export_graphviz\n",
    "%matplotlib inline\n",
    "import matplotlib.pyplot as plt  \n",
    "plt.rcParams['font.sans-serif'] = [u'SimHei']\n",
    "plt.rcParams['axes.unicode_minus'] = False"
   ]
  },
  {
   "cell_type": "code",
   "execution_count": 2,
   "metadata": {},
   "outputs": [],
   "source": [
    "# pip install graphviz\n",
    "from graphviz import Source"
   ]
  },
  {
   "cell_type": "code",
   "execution_count": 3,
   "metadata": {
    "scrolled": true
   },
   "outputs": [
    {
     "name": "stdout",
     "output_type": "stream",
     "text": [
      "(303, 14)\n"
     ]
    },
    {
     "data": {
      "text/html": [
       "<div>\n",
       "<style scoped>\n",
       "    .dataframe tbody tr th:only-of-type {\n",
       "        vertical-align: middle;\n",
       "    }\n",
       "\n",
       "    .dataframe tbody tr th {\n",
       "        vertical-align: top;\n",
       "    }\n",
       "\n",
       "    .dataframe thead th {\n",
       "        text-align: right;\n",
       "    }\n",
       "</style>\n",
       "<table border=\"1\" class=\"dataframe\">\n",
       "  <thead>\n",
       "    <tr style=\"text-align: right;\">\n",
       "      <th></th>\n",
       "      <th>age</th>\n",
       "      <th>sex</th>\n",
       "      <th>cp</th>\n",
       "      <th>trestbps</th>\n",
       "      <th>chol</th>\n",
       "      <th>fbs</th>\n",
       "      <th>restecg</th>\n",
       "      <th>thalach</th>\n",
       "      <th>exang</th>\n",
       "      <th>oldpeak</th>\n",
       "      <th>slope</th>\n",
       "      <th>ca</th>\n",
       "      <th>thal</th>\n",
       "      <th>target</th>\n",
       "    </tr>\n",
       "  </thead>\n",
       "  <tbody>\n",
       "    <tr>\n",
       "      <th>0</th>\n",
       "      <td>63</td>\n",
       "      <td>1</td>\n",
       "      <td>3</td>\n",
       "      <td>145</td>\n",
       "      <td>233</td>\n",
       "      <td>1</td>\n",
       "      <td>0</td>\n",
       "      <td>150</td>\n",
       "      <td>0</td>\n",
       "      <td>2.3</td>\n",
       "      <td>0</td>\n",
       "      <td>0</td>\n",
       "      <td>1</td>\n",
       "      <td>1</td>\n",
       "    </tr>\n",
       "    <tr>\n",
       "      <th>1</th>\n",
       "      <td>37</td>\n",
       "      <td>1</td>\n",
       "      <td>2</td>\n",
       "      <td>130</td>\n",
       "      <td>250</td>\n",
       "      <td>0</td>\n",
       "      <td>1</td>\n",
       "      <td>187</td>\n",
       "      <td>0</td>\n",
       "      <td>3.5</td>\n",
       "      <td>0</td>\n",
       "      <td>0</td>\n",
       "      <td>2</td>\n",
       "      <td>1</td>\n",
       "    </tr>\n",
       "    <tr>\n",
       "      <th>2</th>\n",
       "      <td>41</td>\n",
       "      <td>0</td>\n",
       "      <td>1</td>\n",
       "      <td>130</td>\n",
       "      <td>204</td>\n",
       "      <td>0</td>\n",
       "      <td>0</td>\n",
       "      <td>172</td>\n",
       "      <td>0</td>\n",
       "      <td>1.4</td>\n",
       "      <td>2</td>\n",
       "      <td>0</td>\n",
       "      <td>2</td>\n",
       "      <td>1</td>\n",
       "    </tr>\n",
       "    <tr>\n",
       "      <th>3</th>\n",
       "      <td>56</td>\n",
       "      <td>1</td>\n",
       "      <td>1</td>\n",
       "      <td>120</td>\n",
       "      <td>236</td>\n",
       "      <td>0</td>\n",
       "      <td>1</td>\n",
       "      <td>178</td>\n",
       "      <td>0</td>\n",
       "      <td>0.8</td>\n",
       "      <td>2</td>\n",
       "      <td>0</td>\n",
       "      <td>2</td>\n",
       "      <td>1</td>\n",
       "    </tr>\n",
       "    <tr>\n",
       "      <th>4</th>\n",
       "      <td>57</td>\n",
       "      <td>0</td>\n",
       "      <td>0</td>\n",
       "      <td>120</td>\n",
       "      <td>354</td>\n",
       "      <td>0</td>\n",
       "      <td>1</td>\n",
       "      <td>163</td>\n",
       "      <td>1</td>\n",
       "      <td>0.6</td>\n",
       "      <td>2</td>\n",
       "      <td>0</td>\n",
       "      <td>2</td>\n",
       "      <td>1</td>\n",
       "    </tr>\n",
       "  </tbody>\n",
       "</table>\n",
       "</div>"
      ],
      "text/plain": [
       "   age  sex  cp  trestbps  chol  fbs  restecg  thalach  exang  oldpeak  slope  \\\n",
       "0   63    1   3       145   233    1        0      150      0      2.3      0   \n",
       "1   37    1   2       130   250    0        1      187      0      3.5      0   \n",
       "2   41    0   1       130   204    0        0      172      0      1.4      2   \n",
       "3   56    1   1       120   236    0        1      178      0      0.8      2   \n",
       "4   57    0   0       120   354    0        1      163      1      0.6      2   \n",
       "\n",
       "   ca  thal  target  \n",
       "0   0     1       1  \n",
       "1   0     2       1  \n",
       "2   0     2       1  \n",
       "3   0     2       1  \n",
       "4   0     2       1  "
      ]
     },
     "execution_count": 3,
     "metadata": {},
     "output_type": "execute_result"
    }
   ],
   "source": [
    "heart = pd.read_csv(\"./heart.csv\")\n",
    "print(heart.shape)\n",
    "heart.head()"
   ]
  },
  {
   "cell_type": "code",
   "execution_count": 4,
   "metadata": {
    "scrolled": true
   },
   "outputs": [
    {
     "data": {
      "text/html": [
       "<div>\n",
       "<style scoped>\n",
       "    .dataframe tbody tr th:only-of-type {\n",
       "        vertical-align: middle;\n",
       "    }\n",
       "\n",
       "    .dataframe tbody tr th {\n",
       "        vertical-align: top;\n",
       "    }\n",
       "\n",
       "    .dataframe thead th {\n",
       "        text-align: right;\n",
       "    }\n",
       "</style>\n",
       "<table border=\"1\" class=\"dataframe\">\n",
       "  <thead>\n",
       "    <tr style=\"text-align: right;\">\n",
       "      <th></th>\n",
       "      <th>age</th>\n",
       "      <th>sex</th>\n",
       "      <th>cp</th>\n",
       "      <th>trestbps</th>\n",
       "      <th>chol</th>\n",
       "      <th>fbs</th>\n",
       "      <th>restecg</th>\n",
       "      <th>thalach</th>\n",
       "      <th>exang</th>\n",
       "      <th>oldpeak</th>\n",
       "      <th>slope</th>\n",
       "      <th>ca</th>\n",
       "      <th>thal</th>\n",
       "      <th>target</th>\n",
       "    </tr>\n",
       "  </thead>\n",
       "  <tbody>\n",
       "    <tr>\n",
       "      <th>count</th>\n",
       "      <td>303.000000</td>\n",
       "      <td>303.000000</td>\n",
       "      <td>303.000000</td>\n",
       "      <td>303.000000</td>\n",
       "      <td>303.000000</td>\n",
       "      <td>303.000000</td>\n",
       "      <td>303.000000</td>\n",
       "      <td>303.000000</td>\n",
       "      <td>303.000000</td>\n",
       "      <td>303.000000</td>\n",
       "      <td>303.000000</td>\n",
       "      <td>303.000000</td>\n",
       "      <td>303.000000</td>\n",
       "      <td>303.000000</td>\n",
       "    </tr>\n",
       "    <tr>\n",
       "      <th>mean</th>\n",
       "      <td>54.366337</td>\n",
       "      <td>0.683168</td>\n",
       "      <td>0.966997</td>\n",
       "      <td>131.623762</td>\n",
       "      <td>246.264026</td>\n",
       "      <td>0.148515</td>\n",
       "      <td>0.528053</td>\n",
       "      <td>149.646865</td>\n",
       "      <td>0.326733</td>\n",
       "      <td>1.039604</td>\n",
       "      <td>1.399340</td>\n",
       "      <td>0.729373</td>\n",
       "      <td>2.313531</td>\n",
       "      <td>0.544554</td>\n",
       "    </tr>\n",
       "    <tr>\n",
       "      <th>std</th>\n",
       "      <td>9.082101</td>\n",
       "      <td>0.466011</td>\n",
       "      <td>1.032052</td>\n",
       "      <td>17.538143</td>\n",
       "      <td>51.830751</td>\n",
       "      <td>0.356198</td>\n",
       "      <td>0.525860</td>\n",
       "      <td>22.905161</td>\n",
       "      <td>0.469794</td>\n",
       "      <td>1.161075</td>\n",
       "      <td>0.616226</td>\n",
       "      <td>1.022606</td>\n",
       "      <td>0.612277</td>\n",
       "      <td>0.498835</td>\n",
       "    </tr>\n",
       "    <tr>\n",
       "      <th>min</th>\n",
       "      <td>29.000000</td>\n",
       "      <td>0.000000</td>\n",
       "      <td>0.000000</td>\n",
       "      <td>94.000000</td>\n",
       "      <td>126.000000</td>\n",
       "      <td>0.000000</td>\n",
       "      <td>0.000000</td>\n",
       "      <td>71.000000</td>\n",
       "      <td>0.000000</td>\n",
       "      <td>0.000000</td>\n",
       "      <td>0.000000</td>\n",
       "      <td>0.000000</td>\n",
       "      <td>0.000000</td>\n",
       "      <td>0.000000</td>\n",
       "    </tr>\n",
       "    <tr>\n",
       "      <th>25%</th>\n",
       "      <td>47.500000</td>\n",
       "      <td>0.000000</td>\n",
       "      <td>0.000000</td>\n",
       "      <td>120.000000</td>\n",
       "      <td>211.000000</td>\n",
       "      <td>0.000000</td>\n",
       "      <td>0.000000</td>\n",
       "      <td>133.500000</td>\n",
       "      <td>0.000000</td>\n",
       "      <td>0.000000</td>\n",
       "      <td>1.000000</td>\n",
       "      <td>0.000000</td>\n",
       "      <td>2.000000</td>\n",
       "      <td>0.000000</td>\n",
       "    </tr>\n",
       "    <tr>\n",
       "      <th>50%</th>\n",
       "      <td>55.000000</td>\n",
       "      <td>1.000000</td>\n",
       "      <td>1.000000</td>\n",
       "      <td>130.000000</td>\n",
       "      <td>240.000000</td>\n",
       "      <td>0.000000</td>\n",
       "      <td>1.000000</td>\n",
       "      <td>153.000000</td>\n",
       "      <td>0.000000</td>\n",
       "      <td>0.800000</td>\n",
       "      <td>1.000000</td>\n",
       "      <td>0.000000</td>\n",
       "      <td>2.000000</td>\n",
       "      <td>1.000000</td>\n",
       "    </tr>\n",
       "    <tr>\n",
       "      <th>75%</th>\n",
       "      <td>61.000000</td>\n",
       "      <td>1.000000</td>\n",
       "      <td>2.000000</td>\n",
       "      <td>140.000000</td>\n",
       "      <td>274.500000</td>\n",
       "      <td>0.000000</td>\n",
       "      <td>1.000000</td>\n",
       "      <td>166.000000</td>\n",
       "      <td>1.000000</td>\n",
       "      <td>1.600000</td>\n",
       "      <td>2.000000</td>\n",
       "      <td>1.000000</td>\n",
       "      <td>3.000000</td>\n",
       "      <td>1.000000</td>\n",
       "    </tr>\n",
       "    <tr>\n",
       "      <th>max</th>\n",
       "      <td>77.000000</td>\n",
       "      <td>1.000000</td>\n",
       "      <td>3.000000</td>\n",
       "      <td>200.000000</td>\n",
       "      <td>564.000000</td>\n",
       "      <td>1.000000</td>\n",
       "      <td>2.000000</td>\n",
       "      <td>202.000000</td>\n",
       "      <td>1.000000</td>\n",
       "      <td>6.200000</td>\n",
       "      <td>2.000000</td>\n",
       "      <td>4.000000</td>\n",
       "      <td>3.000000</td>\n",
       "      <td>1.000000</td>\n",
       "    </tr>\n",
       "  </tbody>\n",
       "</table>\n",
       "</div>"
      ],
      "text/plain": [
       "              age         sex          cp    trestbps        chol         fbs  \\\n",
       "count  303.000000  303.000000  303.000000  303.000000  303.000000  303.000000   \n",
       "mean    54.366337    0.683168    0.966997  131.623762  246.264026    0.148515   \n",
       "std      9.082101    0.466011    1.032052   17.538143   51.830751    0.356198   \n",
       "min     29.000000    0.000000    0.000000   94.000000  126.000000    0.000000   \n",
       "25%     47.500000    0.000000    0.000000  120.000000  211.000000    0.000000   \n",
       "50%     55.000000    1.000000    1.000000  130.000000  240.000000    0.000000   \n",
       "75%     61.000000    1.000000    2.000000  140.000000  274.500000    0.000000   \n",
       "max     77.000000    1.000000    3.000000  200.000000  564.000000    1.000000   \n",
       "\n",
       "          restecg     thalach       exang     oldpeak       slope          ca  \\\n",
       "count  303.000000  303.000000  303.000000  303.000000  303.000000  303.000000   \n",
       "mean     0.528053  149.646865    0.326733    1.039604    1.399340    0.729373   \n",
       "std      0.525860   22.905161    0.469794    1.161075    0.616226    1.022606   \n",
       "min      0.000000   71.000000    0.000000    0.000000    0.000000    0.000000   \n",
       "25%      0.000000  133.500000    0.000000    0.000000    1.000000    0.000000   \n",
       "50%      1.000000  153.000000    0.000000    0.800000    1.000000    0.000000   \n",
       "75%      1.000000  166.000000    1.000000    1.600000    2.000000    1.000000   \n",
       "max      2.000000  202.000000    1.000000    6.200000    2.000000    4.000000   \n",
       "\n",
       "             thal      target  \n",
       "count  303.000000  303.000000  \n",
       "mean     2.313531    0.544554  \n",
       "std      0.612277    0.498835  \n",
       "min      0.000000    0.000000  \n",
       "25%      2.000000    0.000000  \n",
       "50%      2.000000    1.000000  \n",
       "75%      3.000000    1.000000  \n",
       "max      3.000000    1.000000  "
      ]
     },
     "execution_count": 4,
     "metadata": {},
     "output_type": "execute_result"
    }
   ],
   "source": [
    "heart.describe()"
   ]
  },
  {
   "cell_type": "code",
   "execution_count": 5,
   "metadata": {},
   "outputs": [
    {
     "data": {
      "text/plain": [
       "Index(['age', 'sex', 'cp', 'trestbps', 'chol', 'fbs', 'restecg', 'thalach',\n",
       "       'exang', 'oldpeak', 'slope', 'ca', 'thal', 'target'],\n",
       "      dtype='object')"
      ]
     },
     "execution_count": 5,
     "metadata": {},
     "output_type": "execute_result"
    }
   ],
   "source": [
    "heart.columns"
   ]
  },
  {
   "cell_type": "markdown",
   "metadata": {},
   "source": [
    "这个数据集中有14列，它们的定义如下:\n",
    "'age':年龄,\n",
    "'sex':人的性别(1 =男性，0 =女性),\n",
    "'cp':胸痛(值1:典型心绞痛，值2:非典型心绞痛，值3:非心绞痛，值4:无症状) \n",
    "'trestbps':患者入院时的静息血压(mm Hg),\n",
    "'chol':人的胆固醇含量以毫克/分升为单位,\n",
    "'fbs':空腹血糖(> 120 mg/dl, 1 =真;0 = false),\n",
    "'restecg':静息心电图测量(0 =正常，1 = ST-T波异常，2 =根据Estes标准显示可能或明确的左室肥厚),\n",
    "'thalach':人的最大心率,\n",
    "'exang':运动诱发心绞痛(1 =有;0 = no),\n",
    "'oldpeak':运动相对于休息引起的ST抑制(“ST”与心电图上的位置有关),\n",
    "'slope':峰值运动ST段的坡度(值1:下降，值2:平缓，值3:上升), \n",
    "'ca':主要船舶数量(0-3艘), \n",
    "'thal':一种叫做地中海贫血的血液疾病(1 =固定缺陷，2 =正常，3 =反向缺陷), \n",
    "'target':血管造影疾病状态(0 = >50%直径变窄，1 = <50%直径变窄),\n",
    "  "
   ]
  },
  {
   "cell_type": "code",
   "execution_count": 6,
   "metadata": {
    "scrolled": true
   },
   "outputs": [
    {
     "data": {
      "text/plain": [
       "age           int64\n",
       "sex           int64\n",
       "cp            int64\n",
       "trestbps      int64\n",
       "chol          int64\n",
       "fbs           int64\n",
       "restecg       int64\n",
       "thalach       int64\n",
       "exang         int64\n",
       "oldpeak     float64\n",
       "slope         int64\n",
       "ca            int64\n",
       "thal          int64\n",
       "target        int64\n",
       "dtype: object"
      ]
     },
     "execution_count": 6,
     "metadata": {},
     "output_type": "execute_result"
    }
   ],
   "source": [
    "heart.dtypes"
   ]
  },
  {
   "cell_type": "code",
   "execution_count": 7,
   "metadata": {
    "scrolled": false
   },
   "outputs": [
    {
     "data": {
      "text/plain": [
       "age         0\n",
       "sex         0\n",
       "cp          0\n",
       "trestbps    0\n",
       "chol        0\n",
       "fbs         0\n",
       "restecg     0\n",
       "thalach     0\n",
       "exang       0\n",
       "oldpeak     0\n",
       "slope       0\n",
       "ca          0\n",
       "thal        0\n",
       "target      0\n",
       "dtype: int64"
      ]
     },
     "execution_count": 7,
     "metadata": {},
     "output_type": "execute_result"
    }
   ],
   "source": [
    "# 查看有无空值\n",
    "heart.isnull().sum()"
   ]
  },
  {
   "cell_type": "markdown",
   "metadata": {},
   "source": [
    "没有空值"
   ]
  },
  {
   "cell_type": "markdown",
   "metadata": {},
   "source": [
    "注意:sex、cp、fbs、restecg、exang、slope、ca、thal和target是分类的类型。"
   ]
  },
  {
   "cell_type": "code",
   "execution_count": 9,
   "metadata": {},
   "outputs": [
    {
     "data": {
      "text/html": [
       "<div>\n",
       "<style scoped>\n",
       "    .dataframe tbody tr th:only-of-type {\n",
       "        vertical-align: middle;\n",
       "    }\n",
       "\n",
       "    .dataframe tbody tr th {\n",
       "        vertical-align: top;\n",
       "    }\n",
       "\n",
       "    .dataframe thead th {\n",
       "        text-align: right;\n",
       "    }\n",
       "</style>\n",
       "<table border=\"1\" class=\"dataframe\">\n",
       "  <thead>\n",
       "    <tr style=\"text-align: right;\">\n",
       "      <th></th>\n",
       "      <th>age</th>\n",
       "      <th>sex</th>\n",
       "      <th>cp</th>\n",
       "      <th>trestbps</th>\n",
       "      <th>chol</th>\n",
       "      <th>fbs</th>\n",
       "      <th>restecg</th>\n",
       "      <th>thalach</th>\n",
       "      <th>exang</th>\n",
       "      <th>oldpeak</th>\n",
       "      <th>slope</th>\n",
       "      <th>ca</th>\n",
       "      <th>thal</th>\n",
       "      <th>target</th>\n",
       "    </tr>\n",
       "  </thead>\n",
       "  <tbody>\n",
       "    <tr>\n",
       "      <th>164</th>\n",
       "      <td>38</td>\n",
       "      <td>1</td>\n",
       "      <td>2</td>\n",
       "      <td>138</td>\n",
       "      <td>175</td>\n",
       "      <td>0</td>\n",
       "      <td>1</td>\n",
       "      <td>173</td>\n",
       "      <td>0</td>\n",
       "      <td>0.0</td>\n",
       "      <td>2</td>\n",
       "      <td>4</td>\n",
       "      <td>2</td>\n",
       "      <td>1</td>\n",
       "    </tr>\n",
       "  </tbody>\n",
       "</table>\n",
       "</div>"
      ],
      "text/plain": [
       "     age  sex  cp  trestbps  chol  fbs  restecg  thalach  exang  oldpeak  \\\n",
       "164   38    1   2       138   175    0        1      173      0      0.0   \n",
       "\n",
       "     slope  ca  thal  target  \n",
       "164      2   4     2       1  "
      ]
     },
     "execution_count": 9,
     "metadata": {},
     "output_type": "execute_result"
    }
   ],
   "source": [
    "# 查看重复行\n",
    "dup_count = heart.duplicated()\n",
    "dup_count\n",
    "heart[dup_count]"
   ]
  },
  {
   "cell_type": "code",
   "execution_count": 10,
   "metadata": {
    "scrolled": false
   },
   "outputs": [
    {
     "data": {
      "text/html": [
       "<div>\n",
       "<style scoped>\n",
       "    .dataframe tbody tr th:only-of-type {\n",
       "        vertical-align: middle;\n",
       "    }\n",
       "\n",
       "    .dataframe tbody tr th {\n",
       "        vertical-align: top;\n",
       "    }\n",
       "\n",
       "    .dataframe thead th {\n",
       "        text-align: right;\n",
       "    }\n",
       "</style>\n",
       "<table border=\"1\" class=\"dataframe\">\n",
       "  <thead>\n",
       "    <tr style=\"text-align: right;\">\n",
       "      <th></th>\n",
       "      <th>age</th>\n",
       "      <th>sex</th>\n",
       "      <th>cp</th>\n",
       "      <th>trestbps</th>\n",
       "      <th>chol</th>\n",
       "      <th>fbs</th>\n",
       "      <th>restecg</th>\n",
       "      <th>thalach</th>\n",
       "      <th>exang</th>\n",
       "      <th>oldpeak</th>\n",
       "      <th>slope</th>\n",
       "      <th>ca</th>\n",
       "      <th>thal</th>\n",
       "      <th>target</th>\n",
       "    </tr>\n",
       "  </thead>\n",
       "  <tbody>\n",
       "    <tr>\n",
       "      <th>163</th>\n",
       "      <td>38</td>\n",
       "      <td>1</td>\n",
       "      <td>2</td>\n",
       "      <td>138</td>\n",
       "      <td>175</td>\n",
       "      <td>0</td>\n",
       "      <td>1</td>\n",
       "      <td>173</td>\n",
       "      <td>0</td>\n",
       "      <td>0.0</td>\n",
       "      <td>2</td>\n",
       "      <td>4</td>\n",
       "      <td>2</td>\n",
       "      <td>1</td>\n",
       "    </tr>\n",
       "    <tr>\n",
       "      <th>164</th>\n",
       "      <td>38</td>\n",
       "      <td>1</td>\n",
       "      <td>2</td>\n",
       "      <td>138</td>\n",
       "      <td>175</td>\n",
       "      <td>0</td>\n",
       "      <td>1</td>\n",
       "      <td>173</td>\n",
       "      <td>0</td>\n",
       "      <td>0.0</td>\n",
       "      <td>2</td>\n",
       "      <td>4</td>\n",
       "      <td>2</td>\n",
       "      <td>1</td>\n",
       "    </tr>\n",
       "    <tr>\n",
       "      <th>259</th>\n",
       "      <td>38</td>\n",
       "      <td>1</td>\n",
       "      <td>3</td>\n",
       "      <td>120</td>\n",
       "      <td>231</td>\n",
       "      <td>0</td>\n",
       "      <td>1</td>\n",
       "      <td>182</td>\n",
       "      <td>1</td>\n",
       "      <td>3.8</td>\n",
       "      <td>1</td>\n",
       "      <td>0</td>\n",
       "      <td>3</td>\n",
       "      <td>0</td>\n",
       "    </tr>\n",
       "  </tbody>\n",
       "</table>\n",
       "</div>"
      ],
      "text/plain": [
       "     age  sex  cp  trestbps  chol  fbs  restecg  thalach  exang  oldpeak  \\\n",
       "163   38    1   2       138   175    0        1      173      0      0.0   \n",
       "164   38    1   2       138   175    0        1      173      0      0.0   \n",
       "259   38    1   3       120   231    0        1      182      1      3.8   \n",
       "\n",
       "     slope  ca  thal  target  \n",
       "163      2   4     2       1  \n",
       "164      2   4     2       1  \n",
       "259      1   0     3       0  "
      ]
     },
     "execution_count": 10,
     "metadata": {},
     "output_type": "execute_result"
    }
   ],
   "source": [
    "dup = heart.loc[heart['age'] == 38]\n",
    "dup"
   ]
  },
  {
   "cell_type": "markdown",
   "metadata": {},
   "source": [
    "163和164是重复行，由于相邻可能是录入重复  删除重复行"
   ]
  },
  {
   "cell_type": "code",
   "execution_count": 11,
   "metadata": {},
   "outputs": [
    {
     "data": {
      "text/plain": [
       "(302, 14)"
      ]
     },
     "execution_count": 11,
     "metadata": {},
     "output_type": "execute_result"
    }
   ],
   "source": [
    "\n",
    "heart = heart.drop_duplicates()\n",
    "heart.shape"
   ]
  },
  {
   "cell_type": "markdown",
   "metadata": {},
   "source": [
    "查看分类属性中有没有不属于分类属性中的值"
   ]
  },
  {
   "cell_type": "code",
   "execution_count": 15,
   "metadata": {},
   "outputs": [
    {
     "data": {
      "text/plain": [
       "1    206\n",
       "0     96\n",
       "Name: sex, dtype: int64"
      ]
     },
     "execution_count": 15,
     "metadata": {},
     "output_type": "execute_result"
    }
   ],
   "source": [
    "heart[\"sex\"].value_counts()"
   ]
  },
  {
   "cell_type": "code",
   "execution_count": 17,
   "metadata": {
    "scrolled": true
   },
   "outputs": [
    {
     "name": "stdout",
     "output_type": "stream",
     "text": [
      "1    206\n",
      "0     96\n",
      "Name: sex, dtype: int64\n",
      "=====================\n",
      "0    143\n",
      "2     86\n",
      "1     50\n",
      "3     23\n",
      "Name: cp, dtype: int64\n",
      "=====================\n",
      "0    257\n",
      "1     45\n",
      "Name: fbs, dtype: int64\n",
      "=====================\n",
      "1    151\n",
      "0    147\n",
      "2      4\n",
      "Name: restecg, dtype: int64\n",
      "=====================\n",
      "0    203\n",
      "1     99\n",
      "Name: exang, dtype: int64\n",
      "=====================\n",
      "2    141\n",
      "1    140\n",
      "0     21\n",
      "Name: slope, dtype: int64\n",
      "=====================\n",
      "0    175\n",
      "1     65\n",
      "2     38\n",
      "3     20\n",
      "4      4\n",
      "Name: ca, dtype: int64\n",
      "=====================\n",
      "2    165\n",
      "3    117\n",
      "1     18\n",
      "0      2\n",
      "Name: thal, dtype: int64\n",
      "=====================\n",
      "1    164\n",
      "0    138\n",
      "Name: target, dtype: int64\n",
      "=====================\n"
     ]
    }
   ],
   "source": [
    "ls = ['sex', 'cp',  'fbs', 'restecg','exang', 'slope', 'ca', 'thal', 'target']\n",
    "for i in ls:\n",
    "    print(heart[i].value_counts())\n",
    "    print(\"=====================\")"
   ]
  },
  {
   "cell_type": "code",
   "execution_count": null,
   "metadata": {},
   "outputs": [],
   "source": [
    "分析在ca 和 thal 中都多了一项"
   ]
  },
  {
   "cell_type": "code",
   "execution_count": 19,
   "metadata": {
    "scrolled": true
   },
   "outputs": [
    {
     "data": {
      "text/plain": [
       "0    175\n",
       "1     65\n",
       "2     38\n",
       "3     20\n",
       "4      4\n",
       "Name: ca, dtype: int64"
      ]
     },
     "execution_count": 19,
     "metadata": {},
     "output_type": "execute_result"
    }
   ],
   "source": [
    "heart[\"ca\"].value_counts()"
   ]
  },
  {
   "cell_type": "code",
   "execution_count": 22,
   "metadata": {
    "scrolled": true
   },
   "outputs": [
    {
     "data": {
      "text/html": [
       "<div>\n",
       "<style scoped>\n",
       "    .dataframe tbody tr th:only-of-type {\n",
       "        vertical-align: middle;\n",
       "    }\n",
       "\n",
       "    .dataframe tbody tr th {\n",
       "        vertical-align: top;\n",
       "    }\n",
       "\n",
       "    .dataframe thead th {\n",
       "        text-align: right;\n",
       "    }\n",
       "</style>\n",
       "<table border=\"1\" class=\"dataframe\">\n",
       "  <thead>\n",
       "    <tr style=\"text-align: right;\">\n",
       "      <th></th>\n",
       "      <th>age</th>\n",
       "      <th>sex</th>\n",
       "      <th>cp</th>\n",
       "      <th>trestbps</th>\n",
       "      <th>chol</th>\n",
       "      <th>fbs</th>\n",
       "      <th>restecg</th>\n",
       "      <th>thalach</th>\n",
       "      <th>exang</th>\n",
       "      <th>oldpeak</th>\n",
       "      <th>slope</th>\n",
       "      <th>ca</th>\n",
       "      <th>thal</th>\n",
       "      <th>target</th>\n",
       "    </tr>\n",
       "  </thead>\n",
       "  <tbody>\n",
       "    <tr>\n",
       "      <th>92</th>\n",
       "      <td>52</td>\n",
       "      <td>1</td>\n",
       "      <td>2</td>\n",
       "      <td>138</td>\n",
       "      <td>223</td>\n",
       "      <td>0</td>\n",
       "      <td>1</td>\n",
       "      <td>169</td>\n",
       "      <td>0</td>\n",
       "      <td>0.0</td>\n",
       "      <td>2</td>\n",
       "      <td>4</td>\n",
       "      <td>2</td>\n",
       "      <td>1</td>\n",
       "    </tr>\n",
       "    <tr>\n",
       "      <th>158</th>\n",
       "      <td>58</td>\n",
       "      <td>1</td>\n",
       "      <td>1</td>\n",
       "      <td>125</td>\n",
       "      <td>220</td>\n",
       "      <td>0</td>\n",
       "      <td>1</td>\n",
       "      <td>144</td>\n",
       "      <td>0</td>\n",
       "      <td>0.4</td>\n",
       "      <td>1</td>\n",
       "      <td>4</td>\n",
       "      <td>3</td>\n",
       "      <td>1</td>\n",
       "    </tr>\n",
       "    <tr>\n",
       "      <th>163</th>\n",
       "      <td>38</td>\n",
       "      <td>1</td>\n",
       "      <td>2</td>\n",
       "      <td>138</td>\n",
       "      <td>175</td>\n",
       "      <td>0</td>\n",
       "      <td>1</td>\n",
       "      <td>173</td>\n",
       "      <td>0</td>\n",
       "      <td>0.0</td>\n",
       "      <td>2</td>\n",
       "      <td>4</td>\n",
       "      <td>2</td>\n",
       "      <td>1</td>\n",
       "    </tr>\n",
       "    <tr>\n",
       "      <th>251</th>\n",
       "      <td>43</td>\n",
       "      <td>1</td>\n",
       "      <td>0</td>\n",
       "      <td>132</td>\n",
       "      <td>247</td>\n",
       "      <td>1</td>\n",
       "      <td>0</td>\n",
       "      <td>143</td>\n",
       "      <td>1</td>\n",
       "      <td>0.1</td>\n",
       "      <td>1</td>\n",
       "      <td>4</td>\n",
       "      <td>3</td>\n",
       "      <td>0</td>\n",
       "    </tr>\n",
       "  </tbody>\n",
       "</table>\n",
       "</div>"
      ],
      "text/plain": [
       "     age  sex  cp  trestbps  chol  fbs  restecg  thalach  exang  oldpeak  \\\n",
       "92    52    1   2       138   223    0        1      169      0      0.0   \n",
       "158   58    1   1       125   220    0        1      144      0      0.4   \n",
       "163   38    1   2       138   175    0        1      173      0      0.0   \n",
       "251   43    1   0       132   247    1        0      143      1      0.1   \n",
       "\n",
       "     slope  ca  thal  target  \n",
       "92       2   4     2       1  \n",
       "158      1   4     3       1  \n",
       "163      2   4     2       1  \n",
       "251      1   4     3       0  "
      ]
     },
     "execution_count": 22,
     "metadata": {},
     "output_type": "execute_result"
    }
   ],
   "source": [
    "heart[heart[\"ca\"]==4]"
   ]
  },
  {
   "cell_type": "code",
   "execution_count": 23,
   "metadata": {
    "scrolled": true
   },
   "outputs": [
    {
     "data": {
      "text/plain": [
       "2    165\n",
       "3    117\n",
       "1     18\n",
       "0      2\n",
       "Name: thal, dtype: int64"
      ]
     },
     "execution_count": 23,
     "metadata": {},
     "output_type": "execute_result"
    }
   ],
   "source": [
    "heart[\"thal\"].value_counts()"
   ]
  },
  {
   "cell_type": "code",
   "execution_count": 24,
   "metadata": {
    "scrolled": true
   },
   "outputs": [
    {
     "data": {
      "text/html": [
       "<div>\n",
       "<style scoped>\n",
       "    .dataframe tbody tr th:only-of-type {\n",
       "        vertical-align: middle;\n",
       "    }\n",
       "\n",
       "    .dataframe tbody tr th {\n",
       "        vertical-align: top;\n",
       "    }\n",
       "\n",
       "    .dataframe thead th {\n",
       "        text-align: right;\n",
       "    }\n",
       "</style>\n",
       "<table border=\"1\" class=\"dataframe\">\n",
       "  <thead>\n",
       "    <tr style=\"text-align: right;\">\n",
       "      <th></th>\n",
       "      <th>age</th>\n",
       "      <th>sex</th>\n",
       "      <th>cp</th>\n",
       "      <th>trestbps</th>\n",
       "      <th>chol</th>\n",
       "      <th>fbs</th>\n",
       "      <th>restecg</th>\n",
       "      <th>thalach</th>\n",
       "      <th>exang</th>\n",
       "      <th>oldpeak</th>\n",
       "      <th>slope</th>\n",
       "      <th>ca</th>\n",
       "      <th>thal</th>\n",
       "      <th>target</th>\n",
       "    </tr>\n",
       "  </thead>\n",
       "  <tbody>\n",
       "    <tr>\n",
       "      <th>48</th>\n",
       "      <td>53</td>\n",
       "      <td>0</td>\n",
       "      <td>2</td>\n",
       "      <td>128</td>\n",
       "      <td>216</td>\n",
       "      <td>0</td>\n",
       "      <td>0</td>\n",
       "      <td>115</td>\n",
       "      <td>0</td>\n",
       "      <td>0.0</td>\n",
       "      <td>2</td>\n",
       "      <td>0</td>\n",
       "      <td>0</td>\n",
       "      <td>1</td>\n",
       "    </tr>\n",
       "    <tr>\n",
       "      <th>281</th>\n",
       "      <td>52</td>\n",
       "      <td>1</td>\n",
       "      <td>0</td>\n",
       "      <td>128</td>\n",
       "      <td>204</td>\n",
       "      <td>1</td>\n",
       "      <td>1</td>\n",
       "      <td>156</td>\n",
       "      <td>1</td>\n",
       "      <td>1.0</td>\n",
       "      <td>1</td>\n",
       "      <td>0</td>\n",
       "      <td>0</td>\n",
       "      <td>0</td>\n",
       "    </tr>\n",
       "  </tbody>\n",
       "</table>\n",
       "</div>"
      ],
      "text/plain": [
       "     age  sex  cp  trestbps  chol  fbs  restecg  thalach  exang  oldpeak  \\\n",
       "48    53    0   2       128   216    0        0      115      0      0.0   \n",
       "281   52    1   0       128   204    1        1      156      1      1.0   \n",
       "\n",
       "     slope  ca  thal  target  \n",
       "48       2   0     0       1  \n",
       "281      1   0     0       0  "
      ]
     },
     "execution_count": 24,
     "metadata": {},
     "output_type": "execute_result"
    }
   ],
   "source": [
    "heart[heart[\"thal\"]==0]"
   ]
  },
  {
   "cell_type": "markdown",
   "metadata": {},
   "source": [
    "删除上面的几行异常数据"
   ]
  },
  {
   "cell_type": "code",
   "execution_count": 25,
   "metadata": {},
   "outputs": [
    {
     "data": {
      "text/plain": [
       "(296, 14)"
      ]
     },
     "execution_count": 25,
     "metadata": {},
     "output_type": "execute_result"
    }
   ],
   "source": [
    "heart = heart.drop(list(heart[heart['ca'] == 4].index))\n",
    "heart = heart.drop(list(heart[heart['thal'] == 0].index))\n",
    "heart.shape"
   ]
  },
  {
   "cell_type": "markdown",
   "metadata": {},
   "source": [
    "查看年龄和性别的分布"
   ]
  },
  {
   "cell_type": "code",
   "execution_count": 28,
   "metadata": {
    "scrolled": false
   },
   "outputs": [
    {
     "data": {
      "image/png": "[encoded data removed]",
      "text/plain": [
       "<Figure size 432x288 with 1 Axes>"
      ]
     },
     "metadata": {
      "needs_background": "light"
     },
     "output_type": "display_data"
    }
   ],
   "source": [
    "man_age_dist = heart.loc[heart['sex'] == 1]['age']  #男性的年龄分布\n",
    "woman_age_dist = heart.loc[heart['sex'] == 0]['age']  #女#性的年龄分布\n",
    "sns.distplot(man_age_dist, kde = False, label = 'man',\n",
    "             hist_kws={\"histtype\": \"step\", \"linewidth\": 2, \"alpha\": 0.5, \"color\": \"g\"})\n",
    "sns.distplot(woman_age_dist, kde = False, label = 'woman',\n",
    "             hist_kws={\"histtype\": \"step\", \"linewidth\": 2, \"alpha\": 0.5, \"color\": \"b\"})\n",
    "plt.legend()\n",
    "plt.title('男性与女性的年龄分布')\n",
    "plt.show()"
   ]
  },
  {
   "cell_type": "code",
   "execution_count": null,
   "metadata": {},
   "outputs": [],
   "source": []
  },
  {
   "cell_type": "markdown",
   "metadata": {},
   "source": [
    "从上面的数据集中可以得出男性比女性多得多。大部分女性年龄在50 - 65岁之间"
   ]
  },
  {
   "cell_type": "code",
   "execution_count": 29,
   "metadata": {},
   "outputs": [
    {
     "data": {
      "text/html": [
       "<style  type=\"text/css\" >\n",
       "    #T_1728c6a8_10e9_11ea_8e95_2cd05a35f73arow0_col0 {\n",
       "            background-color:  #ff0000;\n",
       "        }    #T_1728c6a8_10e9_11ea_8e95_2cd05a35f73arow0_col1 {\n",
       "            background-color:  #4c4cff;\n",
       "        }    #T_1728c6a8_10e9_11ea_8e95_2cd05a35f73arow0_col2 {\n",
       "            background-color:  #7676ff;\n",
       "        }    #T_1728c6a8_10e9_11ea_8e95_2cd05a35f73arow0_col3 {\n",
       "            background-color:  #c2c2ff;\n",
       "        }    #T_1728c6a8_10e9_11ea_8e95_2cd05a35f73arow0_col4 {\n",
       "            background-color:  #a8a8ff;\n",
       "        }    #T_1728c6a8_10e9_11ea_8e95_2cd05a35f73arow0_col5 {\n",
       "            background-color:  #6464ff;\n",
       "        }    #T_1728c6a8_10e9_11ea_8e95_2cd05a35f73arow0_col6 {\n",
       "            background-color:  #0c0cff;\n",
       "        }    #T_1728c6a8_10e9_11ea_8e95_2cd05a35f73arow0_col7 {\n",
       "            background-color:  #0000ff;\n",
       "        }    #T_1728c6a8_10e9_11ea_8e95_2cd05a35f73arow0_col8 {\n",
       "            background-color:  #babaff;\n",
       "        }    #T_1728c6a8_10e9_11ea_8e95_2cd05a35f73arow0_col9 {\n",
       "            background-color:  #fcfcff;\n",
       "        }    #T_1728c6a8_10e9_11ea_8e95_2cd05a35f73arow0_col10 {\n",
       "            background-color:  #8686ff;\n",
       "        }    #T_1728c6a8_10e9_11ea_8e95_2cd05a35f73arow0_col11 {\n",
       "            background-color:  #ffdcdc;\n",
       "        }    #T_1728c6a8_10e9_11ea_8e95_2cd05a35f73arow0_col12 {\n",
       "            background-color:  #a0a0ff;\n",
       "        }    #T_1728c6a8_10e9_11ea_8e95_2cd05a35f73arow0_col13 {\n",
       "            background-color:  #5454ff;\n",
       "        }    #T_1728c6a8_10e9_11ea_8e95_2cd05a35f73arow1_col0 {\n",
       "            background-color:  #7070ff;\n",
       "        }    #T_1728c6a8_10e9_11ea_8e95_2cd05a35f73arow1_col1 {\n",
       "            background-color:  #ff0000;\n",
       "        }    #T_1728c6a8_10e9_11ea_8e95_2cd05a35f73arow1_col2 {\n",
       "            background-color:  #7c7cff;\n",
       "        }    #T_1728c6a8_10e9_11ea_8e95_2cd05a35f73arow1_col3 {\n",
       "            background-color:  #2626ff;\n",
       "        }    #T_1728c6a8_10e9_11ea_8e95_2cd05a35f73arow1_col4 {\n",
       "            background-color:  #0000ff;\n",
       "        }    #T_1728c6a8_10e9_11ea_8e95_2cd05a35f73arow1_col5 {\n",
       "            background-color:  #3838ff;\n",
       "        }    #T_1728c6a8_10e9_11ea_8e95_2cd05a35f73arow1_col6 {\n",
       "            background-color:  #1e1eff;\n",
       "        }    #T_1728c6a8_10e9_11ea_8e95_2cd05a35f73arow1_col7 {\n",
       "            background-color:  #7a7aff;\n",
       "        }    #T_1728c6a8_10e9_11ea_8e95_2cd05a35f73arow1_col8 {\n",
       "            background-color:  #cacaff;\n",
       "        }    #T_1728c6a8_10e9_11ea_8e95_2cd05a35f73arow1_col9 {\n",
       "            background-color:  #dcdcff;\n",
       "        }    #T_1728c6a8_10e9_11ea_8e95_2cd05a35f73arow1_col10 {\n",
       "            background-color:  #b2b2ff;\n",
       "        }    #T_1728c6a8_10e9_11ea_8e95_2cd05a35f73arow1_col11 {\n",
       "            background-color:  #c2c2ff;\n",
       "        }    #T_1728c6a8_10e9_11ea_8e95_2cd05a35f73arow1_col12 {\n",
       "            background-color:  #d8d8ff;\n",
       "        }    #T_1728c6a8_10e9_11ea_8e95_2cd05a35f73arow1_col13 {\n",
       "            background-color:  #3e3eff;\n",
       "        }    #T_1728c6a8_10e9_11ea_8e95_2cd05a35f73arow2_col0 {\n",
       "            background-color:  #7a7aff;\n",
       "        }    #T_1728c6a8_10e9_11ea_8e95_2cd05a35f73arow2_col1 {\n",
       "            background-color:  #5e5eff;\n",
       "        }    #T_1728c6a8_10e9_11ea_8e95_2cd05a35f73arow2_col2 {\n",
       "            background-color:  #ff0000;\n",
       "        }    #T_1728c6a8_10e9_11ea_8e95_2cd05a35f73arow2_col3 {\n",
       "            background-color:  #5656ff;\n",
       "        }    #T_1728c6a8_10e9_11ea_8e95_2cd05a35f73arow2_col4 {\n",
       "            background-color:  #3434ff;\n",
       "        }    #T_1728c6a8_10e9_11ea_8e95_2cd05a35f73arow2_col5 {\n",
       "            background-color:  #5e5eff;\n",
       "        }    #T_1728c6a8_10e9_11ea_8e95_2cd05a35f73arow2_col6 {\n",
       "            background-color:  #5050ff;\n",
       "        }    #T_1728c6a8_10e9_11ea_8e95_2cd05a35f73arow2_col7 {\n",
       "            background-color:  #fefeff;\n",
       "        }    #T_1728c6a8_10e9_11ea_8e95_2cd05a35f73arow2_col8 {\n",
       "            background-color:  #0e0eff;\n",
       "        }    #T_1728c6a8_10e9_11ea_8e95_2cd05a35f73arow2_col9 {\n",
       "            background-color:  #8c8cff;\n",
       "        }    #T_1728c6a8_10e9_11ea_8e95_2cd05a35f73arow2_col10 {\n",
       "            background-color:  #dcdcff;\n",
       "        }    #T_1728c6a8_10e9_11ea_8e95_2cd05a35f73arow2_col11 {\n",
       "            background-color:  #5454ff;\n",
       "        }    #T_1728c6a8_10e9_11ea_8e95_2cd05a35f73arow2_col12 {\n",
       "            background-color:  #4a4aff;\n",
       "        }    #T_1728c6a8_10e9_11ea_8e95_2cd05a35f73arow2_col13 {\n",
       "            background-color:  #ffc8c8;\n",
       "        }    #T_1728c6a8_10e9_11ea_8e95_2cd05a35f73arow3_col0 {\n",
       "            background-color:  #fafaff;\n",
       "        }    #T_1728c6a8_10e9_11ea_8e95_2cd05a35f73arow3_col1 {\n",
       "            background-color:  #5858ff;\n",
       "        }    #T_1728c6a8_10e9_11ea_8e95_2cd05a35f73arow3_col2 {\n",
       "            background-color:  #9e9eff;\n",
       "        }    #T_1728c6a8_10e9_11ea_8e95_2cd05a35f73arow3_col3 {\n",
       "            background-color:  #ff0000;\n",
       "        }    #T_1728c6a8_10e9_11ea_8e95_2cd05a35f73arow3_col4 {\n",
       "            background-color:  #8888ff;\n",
       "        }    #T_1728c6a8_10e9_11ea_8e95_2cd05a35f73arow3_col5 {\n",
       "            background-color:  #7c7cff;\n",
       "        }    #T_1728c6a8_10e9_11ea_8e95_2cd05a35f73arow3_col6 {\n",
       "            background-color:  #0a0aff;\n",
       "        }    #T_1728c6a8_10e9_11ea_8e95_2cd05a35f73arow3_col7 {\n",
       "            background-color:  #7e7eff;\n",
       "        }    #T_1728c6a8_10e9_11ea_8e95_2cd05a35f73arow3_col8 {\n",
       "            background-color:  #b2b2ff;\n",
       "        }    #T_1728c6a8_10e9_11ea_8e95_2cd05a35f73arow3_col9 {\n",
       "            background-color:  #fafaff;\n",
       "        }    #T_1728c6a8_10e9_11ea_8e95_2cd05a35f73arow3_col10 {\n",
       "            background-color:  #9292ff;\n",
       "        }    #T_1728c6a8_10e9_11ea_8e95_2cd05a35f73arow3_col11 {\n",
       "            background-color:  #c6c6ff;\n",
       "        }    #T_1728c6a8_10e9_11ea_8e95_2cd05a35f73arow3_col12 {\n",
       "            background-color:  #a0a0ff;\n",
       "        }    #T_1728c6a8_10e9_11ea_8e95_2cd05a35f73arow3_col13 {\n",
       "            background-color:  #6e6eff;\n",
       "        }    #T_1728c6a8_10e9_11ea_8e95_2cd05a35f73arow4_col0 {\n",
       "            background-color:  #dadaff;\n",
       "        }    #T_1728c6a8_10e9_11ea_8e95_2cd05a35f73arow4_col1 {\n",
       "            background-color:  #2424ff;\n",
       "        }    #T_1728c6a8_10e9_11ea_8e95_2cd05a35f73arow4_col2 {\n",
       "            background-color:  #7474ff;\n",
       "        }    #T_1728c6a8_10e9_11ea_8e95_2cd05a35f73arow4_col3 {\n",
       "            background-color:  #7a7aff;\n",
       "        }    #T_1728c6a8_10e9_11ea_8e95_2cd05a35f73arow4_col4 {\n",
       "            background-color:  #ff0000;\n",
       "        }    #T_1728c6a8_10e9_11ea_8e95_2cd05a35f73arow4_col5 {\n",
       "            background-color:  #2c2cff;\n",
       "        }    #T_1728c6a8_10e9_11ea_8e95_2cd05a35f73arow4_col6 {\n",
       "            background-color:  #0000ff;\n",
       "        }    #T_1728c6a8_10e9_11ea_8e95_2cd05a35f73arow4_col7 {\n",
       "            background-color:  #9090ff;\n",
       "        }    #T_1728c6a8_10e9_11ea_8e95_2cd05a35f73arow4_col8 {\n",
       "            background-color:  #aeaeff;\n",
       "        }    #T_1728c6a8_10e9_11ea_8e95_2cd05a35f73arow4_col9 {\n",
       "            background-color:  #c8c8ff;\n",
       "        }    #T_1728c6a8_10e9_11ea_8e95_2cd05a35f73arow4_col10 {\n",
       "            background-color:  #bcbcff;\n",
       "        }    #T_1728c6a8_10e9_11ea_8e95_2cd05a35f73arow4_col11 {\n",
       "            background-color:  #ccccff;\n",
       "        }    #T_1728c6a8_10e9_11ea_8e95_2cd05a35f73arow4_col12 {\n",
       "            background-color:  #a6a6ff;\n",
       "        }    #T_1728c6a8_10e9_11ea_8e95_2cd05a35f73arow4_col13 {\n",
       "            background-color:  #8888ff;\n",
       "        }    #T_1728c6a8_10e9_11ea_8e95_2cd05a35f73arow5_col0 {\n",
       "            background-color:  #c2c2ff;\n",
       "        }    #T_1728c6a8_10e9_11ea_8e95_2cd05a35f73arow5_col1 {\n",
       "            background-color:  #8080ff;\n",
       "        }    #T_1728c6a8_10e9_11ea_8e95_2cd05a35f73arow5_col2 {\n",
       "            background-color:  #b8b8ff;\n",
       "        }    #T_1728c6a8_10e9_11ea_8e95_2cd05a35f73arow5_col3 {\n",
       "            background-color:  #9494ff;\n",
       "        }    #T_1728c6a8_10e9_11ea_8e95_2cd05a35f73arow5_col4 {\n",
       "            background-color:  #5858ff;\n",
       "        }    #T_1728c6a8_10e9_11ea_8e95_2cd05a35f73arow5_col5 {\n",
       "            background-color:  #ff0000;\n",
       "        }    #T_1728c6a8_10e9_11ea_8e95_2cd05a35f73arow5_col6 {\n",
       "            background-color:  #1a1aff;\n",
       "        }    #T_1728c6a8_10e9_11ea_8e95_2cd05a35f73arow5_col7 {\n",
       "            background-color:  #8e8eff;\n",
       "        }    #T_1728c6a8_10e9_11ea_8e95_2cd05a35f73arow5_col8 {\n",
       "            background-color:  #9898ff;\n",
       "        }    #T_1728c6a8_10e9_11ea_8e95_2cd05a35f73arow5_col9 {\n",
       "            background-color:  #bcbcff;\n",
       "        }    #T_1728c6a8_10e9_11ea_8e95_2cd05a35f73arow5_col10 {\n",
       "            background-color:  #acacff;\n",
       "        }    #T_1728c6a8_10e9_11ea_8e95_2cd05a35f73arow5_col11 {\n",
       "            background-color:  #d6d6ff;\n",
       "        }    #T_1728c6a8_10e9_11ea_8e95_2cd05a35f73arow5_col12 {\n",
       "            background-color:  #8282ff;\n",
       "        }    #T_1728c6a8_10e9_11ea_8e95_2cd05a35f73arow5_col13 {\n",
       "            background-color:  #a0a0ff;\n",
       "        }    #T_1728c6a8_10e9_11ea_8e95_2cd05a35f73arow6_col0 {\n",
       "            background-color:  #6868ff;\n",
       "        }    #T_1728c6a8_10e9_11ea_8e95_2cd05a35f73arow6_col1 {\n",
       "            background-color:  #5454ff;\n",
       "        }    #T_1728c6a8_10e9_11ea_8e95_2cd05a35f73arow6_col2 {\n",
       "            background-color:  #9c9cff;\n",
       "        }    #T_1728c6a8_10e9_11ea_8e95_2cd05a35f73arow6_col3 {\n",
       "            background-color:  #0c0cff;\n",
       "        }    #T_1728c6a8_10e9_11ea_8e95_2cd05a35f73arow6_col4 {\n",
       "            background-color:  #1616ff;\n",
       "        }    #T_1728c6a8_10e9_11ea_8e95_2cd05a35f73arow6_col5 {\n",
       "            background-color:  #0000ff;\n",
       "        }    #T_1728c6a8_10e9_11ea_8e95_2cd05a35f73arow6_col6 {\n",
       "            background-color:  #ff0000;\n",
       "        }    #T_1728c6a8_10e9_11ea_8e95_2cd05a35f73arow6_col7 {\n",
       "            background-color:  #9c9cff;\n",
       "        }    #T_1728c6a8_10e9_11ea_8e95_2cd05a35f73arow6_col8 {\n",
       "            background-color:  #8080ff;\n",
       "        }    #T_1728c6a8_10e9_11ea_8e95_2cd05a35f73arow6_col9 {\n",
       "            background-color:  #a8a8ff;\n",
       "        }    #T_1728c6a8_10e9_11ea_8e95_2cd05a35f73arow6_col10 {\n",
       "            background-color:  #d8d8ff;\n",
       "        }    #T_1728c6a8_10e9_11ea_8e95_2cd05a35f73arow6_col11 {\n",
       "            background-color:  #7c7cff;\n",
       "        }    #T_1728c6a8_10e9_11ea_8e95_2cd05a35f73arow6_col12 {\n",
       "            background-color:  #8484ff;\n",
       "        }    #T_1728c6a8_10e9_11ea_8e95_2cd05a35f73arow6_col13 {\n",
       "            background-color:  #d0d0ff;\n",
       "        }    #T_1728c6a8_10e9_11ea_8e95_2cd05a35f73arow7_col0 {\n",
       "            background-color:  #0000ff;\n",
       "        }    #T_1728c6a8_10e9_11ea_8e95_2cd05a35f73arow7_col1 {\n",
       "            background-color:  #5a5aff;\n",
       "        }    #T_1728c6a8_10e9_11ea_8e95_2cd05a35f73arow7_col2 {\n",
       "            background-color:  #fafaff;\n",
       "        }    #T_1728c6a8_10e9_11ea_8e95_2cd05a35f73arow7_col3 {\n",
       "            background-color:  #2a2aff;\n",
       "        }    #T_1728c6a8_10e9_11ea_8e95_2cd05a35f73arow7_col4 {\n",
       "            background-color:  #5252ff;\n",
       "        }    #T_1728c6a8_10e9_11ea_8e95_2cd05a35f73arow7_col5 {\n",
       "            background-color:  #2222ff;\n",
       "        }    #T_1728c6a8_10e9_11ea_8e95_2cd05a35f73arow7_col6 {\n",
       "            background-color:  #4c4cff;\n",
       "        }    #T_1728c6a8_10e9_11ea_8e95_2cd05a35f73arow7_col7 {\n",
       "            background-color:  #ff0000;\n",
       "        }    #T_1728c6a8_10e9_11ea_8e95_2cd05a35f73arow7_col8 {\n",
       "            background-color:  #0e0eff;\n",
       "        }    #T_1728c6a8_10e9_11ea_8e95_2cd05a35f73arow7_col9 {\n",
       "            background-color:  #4a4aff;\n",
       "        }    #T_1728c6a8_10e9_11ea_8e95_2cd05a35f73arow7_col10 {\n",
       "            background-color:  #ffc6c6;\n",
       "        }    #T_1728c6a8_10e9_11ea_8e95_2cd05a35f73arow7_col11 {\n",
       "            background-color:  #4444ff;\n",
       "        }    #T_1728c6a8_10e9_11ea_8e95_2cd05a35f73arow7_col12 {\n",
       "            background-color:  #5e5eff;\n",
       "        }    #T_1728c6a8_10e9_11ea_8e95_2cd05a35f73arow7_col13 {\n",
       "            background-color:  #ffc8c8;\n",
       "        }    #T_1728c6a8_10e9_11ea_8e95_2cd05a35f73arow8_col0 {\n",
       "            background-color:  #b4b4ff;\n",
       "        }    #T_1728c6a8_10e9_11ea_8e95_2cd05a35f73arow8_col1 {\n",
       "            background-color:  #a8a8ff;\n",
       "        }    #T_1728c6a8_10e9_11ea_8e95_2cd05a35f73arow8_col2 {\n",
       "            background-color:  #0000ff;\n",
       "        }    #T_1728c6a8_10e9_11ea_8e95_2cd05a35f73arow8_col3 {\n",
       "            background-color:  #6060ff;\n",
       "        }    #T_1728c6a8_10e9_11ea_8e95_2cd05a35f73arow8_col4 {\n",
       "            background-color:  #6c6cff;\n",
       "        }    #T_1728c6a8_10e9_11ea_8e95_2cd05a35f73arow8_col5 {\n",
       "            background-color:  #2626ff;\n",
       "        }    #T_1728c6a8_10e9_11ea_8e95_2cd05a35f73arow8_col6 {\n",
       "            background-color:  #2222ff;\n",
       "        }    #T_1728c6a8_10e9_11ea_8e95_2cd05a35f73arow8_col7 {\n",
       "            background-color:  #0404ff;\n",
       "        }    #T_1728c6a8_10e9_11ea_8e95_2cd05a35f73arow8_col8 {\n",
       "            background-color:  #ff0000;\n",
       "        }    #T_1728c6a8_10e9_11ea_8e95_2cd05a35f73arow8_col9 {\n",
       "            background-color:  #ffe6e6;\n",
       "        }    #T_1728c6a8_10e9_11ea_8e95_2cd05a35f73arow8_col10 {\n",
       "            background-color:  #6a6aff;\n",
       "        }    #T_1728c6a8_10e9_11ea_8e95_2cd05a35f73arow8_col11 {\n",
       "            background-color:  #d6d6ff;\n",
       "        }    #T_1728c6a8_10e9_11ea_8e95_2cd05a35f73arow8_col12 {\n",
       "            background-color:  #dcdcff;\n",
       "        }    #T_1728c6a8_10e9_11ea_8e95_2cd05a35f73arow8_col13 {\n",
       "            background-color:  #0e0eff;\n",
       "        }    #T_1728c6a8_10e9_11ea_8e95_2cd05a35f73arow9_col0 {\n",
       "            background-color:  #dadaff;\n",
       "        }    #T_1728c6a8_10e9_11ea_8e95_2cd05a35f73arow9_col1 {\n",
       "            background-color:  #9a9aff;\n",
       "        }    #T_1728c6a8_10e9_11ea_8e95_2cd05a35f73arow9_col2 {\n",
       "            background-color:  #5858ff;\n",
       "        }    #T_1728c6a8_10e9_11ea_8e95_2cd05a35f73arow9_col3 {\n",
       "            background-color:  #9a9aff;\n",
       "        }    #T_1728c6a8_10e9_11ea_8e95_2cd05a35f73arow9_col4 {\n",
       "            background-color:  #6464ff;\n",
       "        }    #T_1728c6a8_10e9_11ea_8e95_2cd05a35f73arow9_col5 {\n",
       "            background-color:  #2a2aff;\n",
       "        }    #T_1728c6a8_10e9_11ea_8e95_2cd05a35f73arow9_col6 {\n",
       "            background-color:  #2626ff;\n",
       "        }    #T_1728c6a8_10e9_11ea_8e95_2cd05a35f73arow9_col7 {\n",
       "            background-color:  #1212ff;\n",
       "        }    #T_1728c6a8_10e9_11ea_8e95_2cd05a35f73arow9_col8 {\n",
       "            background-color:  #fffefe;\n",
       "        }    #T_1728c6a8_10e9_11ea_8e95_2cd05a35f73arow9_col9 {\n",
       "            background-color:  #ff0000;\n",
       "        }    #T_1728c6a8_10e9_11ea_8e95_2cd05a35f73arow9_col10 {\n",
       "            background-color:  #0000ff;\n",
       "        }    #T_1728c6a8_10e9_11ea_8e95_2cd05a35f73arow9_col11 {\n",
       "            background-color:  #fff6f6;\n",
       "        }    #T_1728c6a8_10e9_11ea_8e95_2cd05a35f73arow9_col12 {\n",
       "            background-color:  #d8d8ff;\n",
       "        }    #T_1728c6a8_10e9_11ea_8e95_2cd05a35f73arow9_col13 {\n",
       "            background-color:  #0c0cff;\n",
       "        }    #T_1728c6a8_10e9_11ea_8e95_2cd05a35f73arow10_col0 {\n",
       "            background-color:  #5454ff;\n",
       "        }    #T_1728c6a8_10e9_11ea_8e95_2cd05a35f73arow10_col1 {\n",
       "            background-color:  #6666ff;\n",
       "        }    #T_1728c6a8_10e9_11ea_8e95_2cd05a35f73arow10_col2 {\n",
       "            background-color:  #b4b4ff;\n",
       "        }    #T_1728c6a8_10e9_11ea_8e95_2cd05a35f73arow10_col3 {\n",
       "            background-color:  #0808ff;\n",
       "        }    #T_1728c6a8_10e9_11ea_8e95_2cd05a35f73arow10_col4 {\n",
       "            background-color:  #5454ff;\n",
       "        }    #T_1728c6a8_10e9_11ea_8e95_2cd05a35f73arow10_col5 {\n",
       "            background-color:  #1010ff;\n",
       "        }    #T_1728c6a8_10e9_11ea_8e95_2cd05a35f73arow10_col6 {\n",
       "            background-color:  #6868ff;\n",
       "        }    #T_1728c6a8_10e9_11ea_8e95_2cd05a35f73arow10_col7 {\n",
       "            background-color:  #ffe0e0;\n",
       "        }    #T_1728c6a8_10e9_11ea_8e95_2cd05a35f73arow10_col8 {\n",
       "            background-color:  #3e3eff;\n",
       "        }    #T_1728c6a8_10e9_11ea_8e95_2cd05a35f73arow10_col9 {\n",
       "            background-color:  #0000ff;\n",
       "        }    #T_1728c6a8_10e9_11ea_8e95_2cd05a35f73arow10_col10 {\n",
       "            background-color:  #ff0000;\n",
       "        }    #T_1728c6a8_10e9_11ea_8e95_2cd05a35f73arow10_col11 {\n",
       "            background-color:  #7c7cff;\n",
       "        }    #T_1728c6a8_10e9_11ea_8e95_2cd05a35f73arow10_col12 {\n",
       "            background-color:  #6464ff;\n",
       "        }    #T_1728c6a8_10e9_11ea_8e95_2cd05a35f73arow10_col13 {\n",
       "            background-color:  #ffe6e6;\n",
       "        }    #T_1728c6a8_10e9_11ea_8e95_2cd05a35f73arow11_col0 {\n",
       "            background-color:  #ffe8e8;\n",
       "        }    #T_1728c6a8_10e9_11ea_8e95_2cd05a35f73arow11_col1 {\n",
       "            background-color:  #9494ff;\n",
       "        }    #T_1728c6a8_10e9_11ea_8e95_2cd05a35f73arow11_col2 {\n",
       "            background-color:  #3a3aff;\n",
       "        }    #T_1728c6a8_10e9_11ea_8e95_2cd05a35f73arow11_col3 {\n",
       "            background-color:  #6e6eff;\n",
       "        }    #T_1728c6a8_10e9_11ea_8e95_2cd05a35f73arow11_col4 {\n",
       "            background-color:  #8686ff;\n",
       "        }    #T_1728c6a8_10e9_11ea_8e95_2cd05a35f73arow11_col5 {\n",
       "            background-color:  #6e6eff;\n",
       "        }    #T_1728c6a8_10e9_11ea_8e95_2cd05a35f73arow11_col6 {\n",
       "            background-color:  #0c0cff;\n",
       "        }    #T_1728c6a8_10e9_11ea_8e95_2cd05a35f73arow11_col7 {\n",
       "            background-color:  #2e2eff;\n",
       "        }    #T_1728c6a8_10e9_11ea_8e95_2cd05a35f73arow11_col8 {\n",
       "            background-color:  #ccccff;\n",
       "        }    #T_1728c6a8_10e9_11ea_8e95_2cd05a35f73arow11_col9 {\n",
       "            background-color:  #ffe4e4;\n",
       "        }    #T_1728c6a8_10e9_11ea_8e95_2cd05a35f73arow11_col10 {\n",
       "            background-color:  #9898ff;\n",
       "        }    #T_1728c6a8_10e9_11ea_8e95_2cd05a35f73arow11_col11 {\n",
       "            background-color:  #ff0000;\n",
       "        }    #T_1728c6a8_10e9_11ea_8e95_2cd05a35f73arow11_col12 {\n",
       "            background-color:  #c0c0ff;\n",
       "        }    #T_1728c6a8_10e9_11ea_8e95_2cd05a35f73arow11_col13 {\n",
       "            background-color:  #0000ff;\n",
       "        }    #T_1728c6a8_10e9_11ea_8e95_2cd05a35f73arow12_col0 {\n",
       "            background-color:  #a8a8ff;\n",
       "        }    #T_1728c6a8_10e9_11ea_8e95_2cd05a35f73arow12_col1 {\n",
       "            background-color:  #c6c6ff;\n",
       "        }    #T_1728c6a8_10e9_11ea_8e95_2cd05a35f73arow12_col2 {\n",
       "            background-color:  #5050ff;\n",
       "        }    #T_1728c6a8_10e9_11ea_8e95_2cd05a35f73arow12_col3 {\n",
       "            background-color:  #5e5eff;\n",
       "        }    #T_1728c6a8_10e9_11ea_8e95_2cd05a35f73arow12_col4 {\n",
       "            background-color:  #7676ff;\n",
       "        }    #T_1728c6a8_10e9_11ea_8e95_2cd05a35f73arow12_col5 {\n",
       "            background-color:  #1e1eff;\n",
       "        }    #T_1728c6a8_10e9_11ea_8e95_2cd05a35f73arow12_col6 {\n",
       "            background-color:  #3a3aff;\n",
       "        }    #T_1728c6a8_10e9_11ea_8e95_2cd05a35f73arow12_col7 {\n",
       "            background-color:  #6868ff;\n",
       "        }    #T_1728c6a8_10e9_11ea_8e95_2cd05a35f73arow12_col8 {\n",
       "            background-color:  #e8e8ff;\n",
       "        }    #T_1728c6a8_10e9_11ea_8e95_2cd05a35f73arow12_col9 {\n",
       "            background-color:  #fffefe;\n",
       "        }    #T_1728c6a8_10e9_11ea_8e95_2cd05a35f73arow12_col10 {\n",
       "            background-color:  #9c9cff;\n",
       "        }    #T_1728c6a8_10e9_11ea_8e95_2cd05a35f73arow12_col11 {\n",
       "            background-color:  #d6d6ff;\n",
       "        }    #T_1728c6a8_10e9_11ea_8e95_2cd05a35f73arow12_col12 {\n",
       "            background-color:  #ff0000;\n",
       "        }    #T_1728c6a8_10e9_11ea_8e95_2cd05a35f73arow12_col13 {\n",
       "            background-color:  #2222ff;\n",
       "        }    #T_1728c6a8_10e9_11ea_8e95_2cd05a35f73arow13_col0 {\n",
       "            background-color:  #3e3eff;\n",
       "        }    #T_1728c6a8_10e9_11ea_8e95_2cd05a35f73arow13_col1 {\n",
       "            background-color:  #0000ff;\n",
       "        }    #T_1728c6a8_10e9_11ea_8e95_2cd05a35f73arow13_col2 {\n",
       "            background-color:  #ffd4d4;\n",
       "        }    #T_1728c6a8_10e9_11ea_8e95_2cd05a35f73arow13_col3 {\n",
       "            background-color:  #0000ff;\n",
       "        }    #T_1728c6a8_10e9_11ea_8e95_2cd05a35f73arow13_col4 {\n",
       "            background-color:  #3232ff;\n",
       "        }    #T_1728c6a8_10e9_11ea_8e95_2cd05a35f73arow13_col5 {\n",
       "            background-color:  #2424ff;\n",
       "        }    #T_1728c6a8_10e9_11ea_8e95_2cd05a35f73arow13_col6 {\n",
       "            background-color:  #7a7aff;\n",
       "        }    #T_1728c6a8_10e9_11ea_8e95_2cd05a35f73arow13_col7 {\n",
       "            background-color:  #ffd2d2;\n",
       "        }    #T_1728c6a8_10e9_11ea_8e95_2cd05a35f73arow13_col8 {\n",
       "            background-color:  #0000ff;\n",
       "        }    #T_1728c6a8_10e9_11ea_8e95_2cd05a35f73arow13_col9 {\n",
       "            background-color:  #3030ff;\n",
       "        }    #T_1728c6a8_10e9_11ea_8e95_2cd05a35f73arow13_col10 {\n",
       "            background-color:  #ffd6d6;\n",
       "        }    #T_1728c6a8_10e9_11ea_8e95_2cd05a35f73arow13_col11 {\n",
       "            background-color:  #0000ff;\n",
       "        }    #T_1728c6a8_10e9_11ea_8e95_2cd05a35f73arow13_col12 {\n",
       "            background-color:  #0000ff;\n",
       "        }    #T_1728c6a8_10e9_11ea_8e95_2cd05a35f73arow13_col13 {\n",
       "            background-color:  #ff0000;\n",
       "        }</style>  \n",
       "<table id=\"T_1728c6a8_10e9_11ea_8e95_2cd05a35f73a\" > \n",
       "<thead>    <tr> \n",
       "        <th class=\"blank level0\" ></th> \n",
       "        <th class=\"col_heading level0 col0\" >age</th> \n",
       "        <th class=\"col_heading level0 col1\" >sex</th> \n",
       "        <th class=\"col_heading level0 col2\" >cp</th> \n",
       "        <th class=\"col_heading level0 col3\" >trestbps</th> \n",
       "        <th class=\"col_heading level0 col4\" >chol</th> \n",
       "        <th class=\"col_heading level0 col5\" >fbs</th> \n",
       "        <th class=\"col_heading level0 col6\" >restecg</th> \n",
       "        <th class=\"col_heading level0 col7\" >thalach</th> \n",
       "        <th class=\"col_heading level0 col8\" >exang</th> \n",
       "        <th class=\"col_heading level0 col9\" >oldpeak</th> \n",
       "        <th class=\"col_heading level0 col10\" >slope</th> \n",
       "        <th class=\"col_heading level0 col11\" >ca</th> \n",
       "        <th class=\"col_heading level0 col12\" >thal</th> \n",
       "        <th class=\"col_heading level0 col13\" >target</th> \n",
       "    </tr></thead> \n",
       "<tbody>    <tr> \n",
       "        <th id=\"T_1728c6a8_10e9_11ea_8e95_2cd05a35f73alevel0_row0\" class=\"row_heading level0 row0\" >age</th> \n",
       "        <td id=\"T_1728c6a8_10e9_11ea_8e95_2cd05a35f73arow0_col0\" class=\"data row0 col0\" >1</td> \n",
       "        <td id=\"T_1728c6a8_10e9_11ea_8e95_2cd05a35f73arow0_col1\" class=\"data row0 col1\" >-0.0898197</td> \n",
       "        <td id=\"T_1728c6a8_10e9_11ea_8e95_2cd05a35f73arow0_col2\" class=\"data row0 col2\" >-0.0614045</td> \n",
       "        <td id=\"T_1728c6a8_10e9_11ea_8e95_2cd05a35f73arow0_col3\" class=\"data row0 col3\" >0.288701</td> \n",
       "        <td id=\"T_1728c6a8_10e9_11ea_8e95_2cd05a35f73arow0_col4\" class=\"data row0 col4\" >0.20092</td> \n",
       "        <td id=\"T_1728c6a8_10e9_11ea_8e95_2cd05a35f73arow0_col5\" class=\"data row0 col5\" >0.133022</td> \n",
       "        <td id=\"T_1728c6a8_10e9_11ea_8e95_2cd05a35f73arow0_col6\" class=\"data row0 col6\" >-0.112365</td> \n",
       "        <td id=\"T_1728c6a8_10e9_11ea_8e95_2cd05a35f73arow0_col7\" class=\"data row0 col7\" >-0.395989</td> \n",
       "        <td id=\"T_1728c6a8_10e9_11ea_8e95_2cd05a35f73arow0_col8\" class=\"data row0 col8\" >0.0980509</td> \n",
       "        <td id=\"T_1728c6a8_10e9_11ea_8e95_2cd05a35f73arow0_col9\" class=\"data row0 col9\" >0.199373</td> \n",
       "        <td id=\"T_1728c6a8_10e9_11ea_8e95_2cd05a35f73arow0_col10\" class=\"data row0 col10\" >-0.161758</td> \n",
       "        <td id=\"T_1728c6a8_10e9_11ea_8e95_2cd05a35f73arow0_col11\" class=\"data row0 col11\" >0.364229</td> \n",
       "        <td id=\"T_1728c6a8_10e9_11ea_8e95_2cd05a35f73arow0_col12\" class=\"data row0 col12\" >0.0633733</td> \n",
       "        <td id=\"T_1728c6a8_10e9_11ea_8e95_2cd05a35f73arow0_col13\" class=\"data row0 col13\" >-0.225453</td> \n",
       "    </tr>    <tr> \n",
       "        <th id=\"T_1728c6a8_10e9_11ea_8e95_2cd05a35f73alevel0_row1\" class=\"row_heading level0 row1\" >sex</th> \n",
       "        <td id=\"T_1728c6a8_10e9_11ea_8e95_2cd05a35f73arow1_col0\" class=\"data row1 col0\" >-0.0898197</td> \n",
       "        <td id=\"T_1728c6a8_10e9_11ea_8e95_2cd05a35f73arow1_col1\" class=\"data row1 col1\" >1</td> \n",
       "        <td id=\"T_1728c6a8_10e9_11ea_8e95_2cd05a35f73arow1_col2\" class=\"data row1 col2\" >-0.0480234</td> \n",
       "        <td id=\"T_1728c6a8_10e9_11ea_8e95_2cd05a35f73arow1_col3\" class=\"data row1 col3\" >-0.0595201</td> \n",
       "        <td id=\"T_1728c6a8_10e9_11ea_8e95_2cd05a35f73arow1_col4\" class=\"data row1 col4\" >-0.193749</td> \n",
       "        <td id=\"T_1728c6a8_10e9_11ea_8e95_2cd05a35f73arow1_col5\" class=\"data row1 col5\" >0.0369805</td> \n",
       "        <td id=\"T_1728c6a8_10e9_11ea_8e95_2cd05a35f73arow1_col6\" class=\"data row1 col6\" >-0.072303</td> \n",
       "        <td id=\"T_1728c6a8_10e9_11ea_8e95_2cd05a35f73arow1_col7\" class=\"data row1 col7\" >-0.0582935</td> \n",
       "        <td id=\"T_1728c6a8_10e9_11ea_8e95_2cd05a35f73arow1_col8\" class=\"data row1 col8\" >0.140791</td> \n",
       "        <td id=\"T_1728c6a8_10e9_11ea_8e95_2cd05a35f73arow1_col9\" class=\"data row1 col9\" >0.102641</td> \n",
       "        <td id=\"T_1728c6a8_10e9_11ea_8e95_2cd05a35f73arow1_col10\" class=\"data row1 col10\" >-0.0287189</td> \n",
       "        <td id=\"T_1728c6a8_10e9_11ea_8e95_2cd05a35f73arow1_col11\" class=\"data row1 col11\" >0.088788</td> \n",
       "        <td id=\"T_1728c6a8_10e9_11ea_8e95_2cd05a35f73arow1_col12\" class=\"data row1 col12\" >0.212017</td> \n",
       "        <td id=\"T_1728c6a8_10e9_11ea_8e95_2cd05a35f73arow1_col13\" class=\"data row1 col13\" >-0.285322</td> \n",
       "    </tr>    <tr> \n",
       "        <th id=\"T_1728c6a8_10e9_11ea_8e95_2cd05a35f73alevel0_row2\" class=\"row_heading level0 row2\" >cp</th> \n",
       "        <td id=\"T_1728c6a8_10e9_11ea_8e95_2cd05a35f73arow2_col0\" class=\"data row2 col0\" >-0.0614045</td> \n",
       "        <td id=\"T_1728c6a8_10e9_11ea_8e95_2cd05a35f73arow2_col1\" class=\"data row2 col1\" >-0.0480234</td> \n",
       "        <td id=\"T_1728c6a8_10e9_11ea_8e95_2cd05a35f73arow2_col2\" class=\"data row2 col2\" >1</td> \n",
       "        <td id=\"T_1728c6a8_10e9_11ea_8e95_2cd05a35f73arow2_col3\" class=\"data row2 col3\" >0.0446101</td> \n",
       "        <td id=\"T_1728c6a8_10e9_11ea_8e95_2cd05a35f73arow2_col4\" class=\"data row2 col4\" >-0.0679264</td> \n",
       "        <td id=\"T_1728c6a8_10e9_11ea_8e95_2cd05a35f73arow2_col5\" class=\"data row2 col5\" >0.118337</td> \n",
       "        <td id=\"T_1728c6a8_10e9_11ea_8e95_2cd05a35f73arow2_col6\" class=\"data row2 col6\" >0.0391061</td> \n",
       "        <td id=\"T_1728c6a8_10e9_11ea_8e95_2cd05a35f73arow2_col7\" class=\"data row2 col7\" >0.296621</td> \n",
       "        <td id=\"T_1728c6a8_10e9_11ea_8e95_2cd05a35f73arow2_col8\" class=\"data row2 col8\" >-0.383902</td> \n",
       "        <td id=\"T_1728c6a8_10e9_11ea_8e95_2cd05a35f73arow2_col9\" class=\"data row2 col9\" >-0.142159</td> \n",
       "        <td id=\"T_1728c6a8_10e9_11ea_8e95_2cd05a35f73arow2_col10\" class=\"data row2 col10\" >0.104675</td> \n",
       "        <td id=\"T_1728c6a8_10e9_11ea_8e95_2cd05a35f73arow2_col11\" class=\"data row2 col11\" >-0.226203</td> \n",
       "        <td id=\"T_1728c6a8_10e9_11ea_8e95_2cd05a35f73arow2_col12\" class=\"data row2 col12\" >-0.16266</td> \n",
       "        <td id=\"T_1728c6a8_10e9_11ea_8e95_2cd05a35f73arow2_col13\" class=\"data row2 col13\" >0.423425</td> \n",
       "    </tr>    <tr> \n",
       "        <th id=\"T_1728c6a8_10e9_11ea_8e95_2cd05a35f73alevel0_row3\" class=\"row_heading level0 row3\" >trestbps</th> \n",
       "        <td id=\"T_1728c6a8_10e9_11ea_8e95_2cd05a35f73arow3_col0\" class=\"data row3 col0\" >0.288701</td> \n",
       "        <td id=\"T_1728c6a8_10e9_11ea_8e95_2cd05a35f73arow3_col1\" class=\"data row3 col1\" >-0.0595201</td> \n",
       "        <td id=\"T_1728c6a8_10e9_11ea_8e95_2cd05a35f73arow3_col2\" class=\"data row3 col2\" >0.0446101</td> \n",
       "        <td id=\"T_1728c6a8_10e9_11ea_8e95_2cd05a35f73arow3_col3\" class=\"data row3 col3\" >1</td> \n",
       "        <td id=\"T_1728c6a8_10e9_11ea_8e95_2cd05a35f73arow3_col4\" class=\"data row3 col4\" >0.126705</td> \n",
       "        <td id=\"T_1728c6a8_10e9_11ea_8e95_2cd05a35f73arow3_col5\" class=\"data row3 col5\" >0.183658</td> \n",
       "        <td id=\"T_1728c6a8_10e9_11ea_8e95_2cd05a35f73arow3_col6\" class=\"data row3 col6\" >-0.117539</td> \n",
       "        <td id=\"T_1728c6a8_10e9_11ea_8e95_2cd05a35f73arow3_col7\" class=\"data row3 col7\" >-0.051817</td> \n",
       "        <td id=\"T_1728c6a8_10e9_11ea_8e95_2cd05a35f73arow3_col8\" class=\"data row3 col8\" >0.0705015</td> \n",
       "        <td id=\"T_1728c6a8_10e9_11ea_8e95_2cd05a35f73arow3_col9\" class=\"data row3 col9\" >0.196793</td> \n",
       "        <td id=\"T_1728c6a8_10e9_11ea_8e95_2cd05a35f73arow3_col10\" class=\"data row3 col10\" >-0.126742</td> \n",
       "        <td id=\"T_1728c6a8_10e9_11ea_8e95_2cd05a35f73arow3_col11\" class=\"data row3 col11\" >0.102042</td> \n",
       "        <td id=\"T_1728c6a8_10e9_11ea_8e95_2cd05a35f73arow3_col12\" class=\"data row3 col12\" >0.0637733</td> \n",
       "        <td id=\"T_1728c6a8_10e9_11ea_8e95_2cd05a35f73arow3_col13\" class=\"data row3 col13\" >-0.148922</td> \n",
       "    </tr>    <tr> \n",
       "        <th id=\"T_1728c6a8_10e9_11ea_8e95_2cd05a35f73alevel0_row4\" class=\"row_heading level0 row4\" >chol</th> \n",
       "        <td id=\"T_1728c6a8_10e9_11ea_8e95_2cd05a35f73arow4_col0\" class=\"data row4 col0\" >0.20092</td> \n",
       "        <td id=\"T_1728c6a8_10e9_11ea_8e95_2cd05a35f73arow4_col1\" class=\"data row4 col1\" >-0.193749</td> \n",
       "        <td id=\"T_1728c6a8_10e9_11ea_8e95_2cd05a35f73arow4_col2\" class=\"data row4 col2\" >-0.0679264</td> \n",
       "        <td id=\"T_1728c6a8_10e9_11ea_8e95_2cd05a35f73arow4_col3\" class=\"data row4 col3\" >0.126705</td> \n",
       "        <td id=\"T_1728c6a8_10e9_11ea_8e95_2cd05a35f73arow4_col4\" class=\"data row4 col4\" >1</td> \n",
       "        <td id=\"T_1728c6a8_10e9_11ea_8e95_2cd05a35f73arow4_col5\" class=\"data row4 col5\" >0.0142859</td> \n",
       "        <td id=\"T_1728c6a8_10e9_11ea_8e95_2cd05a35f73arow4_col6\" class=\"data row4 col6\" >-0.142039</td> \n",
       "        <td id=\"T_1728c6a8_10e9_11ea_8e95_2cd05a35f73arow4_col7\" class=\"data row4 col7\" >-0.00194709</td> \n",
       "        <td id=\"T_1728c6a8_10e9_11ea_8e95_2cd05a35f73arow4_col8\" class=\"data row4 col8\" >0.0621323</td> \n",
       "        <td id=\"T_1728c6a8_10e9_11ea_8e95_2cd05a35f73arow4_col9\" class=\"data row4 col9\" >0.0421441</td> \n",
       "        <td id=\"T_1728c6a8_10e9_11ea_8e95_2cd05a35f73arow4_col10\" class=\"data row4 col10\" >0.00557175</td> \n",
       "        <td id=\"T_1728c6a8_10e9_11ea_8e95_2cd05a35f73arow4_col11\" class=\"data row4 col11\" >0.119006</td> \n",
       "        <td id=\"T_1728c6a8_10e9_11ea_8e95_2cd05a35f73arow4_col12\" class=\"data row4 col12\" >0.0824963</td> \n",
       "        <td id=\"T_1728c6a8_10e9_11ea_8e95_2cd05a35f73arow4_col13\" class=\"data row4 col13\" >-0.0765405</td> \n",
       "    </tr>    <tr> \n",
       "        <th id=\"T_1728c6a8_10e9_11ea_8e95_2cd05a35f73alevel0_row5\" class=\"row_heading level0 row5\" >fbs</th> \n",
       "        <td id=\"T_1728c6a8_10e9_11ea_8e95_2cd05a35f73arow5_col0\" class=\"data row5 col0\" >0.133022</td> \n",
       "        <td id=\"T_1728c6a8_10e9_11ea_8e95_2cd05a35f73arow5_col1\" class=\"data row5 col1\" >0.0369805</td> \n",
       "        <td id=\"T_1728c6a8_10e9_11ea_8e95_2cd05a35f73arow5_col2\" class=\"data row5 col2\" >0.118337</td> \n",
       "        <td id=\"T_1728c6a8_10e9_11ea_8e95_2cd05a35f73arow5_col3\" class=\"data row5 col3\" >0.183658</td> \n",
       "        <td id=\"T_1728c6a8_10e9_11ea_8e95_2cd05a35f73arow5_col4\" class=\"data row5 col4\" >0.0142859</td> \n",
       "        <td id=\"T_1728c6a8_10e9_11ea_8e95_2cd05a35f73arow5_col5\" class=\"data row5 col5\" >1</td> \n",
       "        <td id=\"T_1728c6a8_10e9_11ea_8e95_2cd05a35f73arow5_col6\" class=\"data row5 col6\" >-0.0823613</td> \n",
       "        <td id=\"T_1728c6a8_10e9_11ea_8e95_2cd05a35f73arow5_col7\" class=\"data row5 col7\" >-0.00715546</td> \n",
       "        <td id=\"T_1728c6a8_10e9_11ea_8e95_2cd05a35f73arow5_col8\" class=\"data row5 col8\" >-0.00186319</td> \n",
       "        <td id=\"T_1728c6a8_10e9_11ea_8e95_2cd05a35f73arow5_col9\" class=\"data row5 col9\" >0.00706214</td> \n",
       "        <td id=\"T_1728c6a8_10e9_11ea_8e95_2cd05a35f73arow5_col10\" class=\"data row5 col10\" >-0.0465499</td> \n",
       "        <td id=\"T_1728c6a8_10e9_11ea_8e95_2cd05a35f73arow5_col11\" class=\"data row5 col11\" >0.151259</td> \n",
       "        <td id=\"T_1728c6a8_10e9_11ea_8e95_2cd05a35f73arow5_col12\" class=\"data row5 col12\" >-0.0178914</td> \n",
       "        <td id=\"T_1728c6a8_10e9_11ea_8e95_2cd05a35f73arow5_col13\" class=\"data row5 col13\" >-0.0046796</td> \n",
       "    </tr>    <tr> \n",
       "        <th id=\"T_1728c6a8_10e9_11ea_8e95_2cd05a35f73alevel0_row6\" class=\"row_heading level0 row6\" >restecg</th> \n",
       "        <td id=\"T_1728c6a8_10e9_11ea_8e95_2cd05a35f73arow6_col0\" class=\"data row6 col0\" >-0.112365</td> \n",
       "        <td id=\"T_1728c6a8_10e9_11ea_8e95_2cd05a35f73arow6_col1\" class=\"data row6 col1\" >-0.072303</td> \n",
       "        <td id=\"T_1728c6a8_10e9_11ea_8e95_2cd05a35f73arow6_col2\" class=\"data row6 col2\" >0.0391061</td> \n",
       "        <td id=\"T_1728c6a8_10e9_11ea_8e95_2cd05a35f73arow6_col3\" class=\"data row6 col3\" >-0.117539</td> \n",
       "        <td id=\"T_1728c6a8_10e9_11ea_8e95_2cd05a35f73arow6_col4\" class=\"data row6 col4\" >-0.142039</td> \n",
       "        <td id=\"T_1728c6a8_10e9_11ea_8e95_2cd05a35f73arow6_col5\" class=\"data row6 col5\" >-0.0823613</td> \n",
       "        <td id=\"T_1728c6a8_10e9_11ea_8e95_2cd05a35f73arow6_col6\" class=\"data row6 col6\" >1</td> \n",
       "        <td id=\"T_1728c6a8_10e9_11ea_8e95_2cd05a35f73arow6_col7\" class=\"data row6 col7\" >0.0300006</td> \n",
       "        <td id=\"T_1728c6a8_10e9_11ea_8e95_2cd05a35f73arow6_col8\" class=\"data row6 col8\" >-0.065623</td> \n",
       "        <td id=\"T_1728c6a8_10e9_11ea_8e95_2cd05a35f73arow6_col9\" class=\"data row6 col9\" >-0.0555277</td> \n",
       "        <td id=\"T_1728c6a8_10e9_11ea_8e95_2cd05a35f73arow6_col10\" class=\"data row6 col10\" >0.0909151</td> \n",
       "        <td id=\"T_1728c6a8_10e9_11ea_8e95_2cd05a35f73arow6_col11\" class=\"data row6 col11\" >-0.111317</td> \n",
       "        <td id=\"T_1728c6a8_10e9_11ea_8e95_2cd05a35f73arow6_col12\" class=\"data row6 col12\" >-0.00872349</td> \n",
       "        <td id=\"T_1728c6a8_10e9_11ea_8e95_2cd05a35f73arow6_col13\" class=\"data row6 col13\" >0.131716</td> \n",
       "    </tr>    <tr> \n",
       "        <th id=\"T_1728c6a8_10e9_11ea_8e95_2cd05a35f73alevel0_row7\" class=\"row_heading level0 row7\" >thalach</th> \n",
       "        <td id=\"T_1728c6a8_10e9_11ea_8e95_2cd05a35f73arow7_col0\" class=\"data row7 col0\" >-0.395989</td> \n",
       "        <td id=\"T_1728c6a8_10e9_11ea_8e95_2cd05a35f73arow7_col1\" class=\"data row7 col1\" >-0.0582935</td> \n",
       "        <td id=\"T_1728c6a8_10e9_11ea_8e95_2cd05a35f73arow7_col2\" class=\"data row7 col2\" >0.296621</td> \n",
       "        <td id=\"T_1728c6a8_10e9_11ea_8e95_2cd05a35f73arow7_col3\" class=\"data row7 col3\" >-0.051817</td> \n",
       "        <td id=\"T_1728c6a8_10e9_11ea_8e95_2cd05a35f73arow7_col4\" class=\"data row7 col4\" >-0.00194709</td> \n",
       "        <td id=\"T_1728c6a8_10e9_11ea_8e95_2cd05a35f73arow7_col5\" class=\"data row7 col5\" >-0.00715546</td> \n",
       "        <td id=\"T_1728c6a8_10e9_11ea_8e95_2cd05a35f73arow7_col6\" class=\"data row7 col6\" >0.0300006</td> \n",
       "        <td id=\"T_1728c6a8_10e9_11ea_8e95_2cd05a35f73arow7_col7\" class=\"data row7 col7\" >1</td> \n",
       "        <td id=\"T_1728c6a8_10e9_11ea_8e95_2cd05a35f73arow7_col8\" class=\"data row7 col8\" >-0.383671</td> \n",
       "        <td id=\"T_1728c6a8_10e9_11ea_8e95_2cd05a35f73arow7_col9\" class=\"data row7 col9\" >-0.346742</td> \n",
       "        <td id=\"T_1728c6a8_10e9_11ea_8e95_2cd05a35f73arow7_col10\" class=\"data row7 col10\" >0.388453</td> \n",
       "        <td id=\"T_1728c6a8_10e9_11ea_8e95_2cd05a35f73arow7_col11\" class=\"data row7 col11\" >-0.267861</td> \n",
       "        <td id=\"T_1728c6a8_10e9_11ea_8e95_2cd05a35f73arow7_col12\" class=\"data row7 col12\" >-0.111961</td> \n",
       "        <td id=\"T_1728c6a8_10e9_11ea_8e95_2cd05a35f73arow7_col13\" class=\"data row7 col13\" >0.426655</td> \n",
       "    </tr>    <tr> \n",
       "        <th id=\"T_1728c6a8_10e9_11ea_8e95_2cd05a35f73alevel0_row8\" class=\"row_heading level0 row8\" >exang</th> \n",
       "        <td id=\"T_1728c6a8_10e9_11ea_8e95_2cd05a35f73arow8_col0\" class=\"data row8 col0\" >0.0980509</td> \n",
       "        <td id=\"T_1728c6a8_10e9_11ea_8e95_2cd05a35f73arow8_col1\" class=\"data row8 col1\" >0.140791</td> \n",
       "        <td id=\"T_1728c6a8_10e9_11ea_8e95_2cd05a35f73arow8_col2\" class=\"data row8 col2\" >-0.383902</td> \n",
       "        <td id=\"T_1728c6a8_10e9_11ea_8e95_2cd05a35f73arow8_col3\" class=\"data row8 col3\" >0.0705015</td> \n",
       "        <td id=\"T_1728c6a8_10e9_11ea_8e95_2cd05a35f73arow8_col4\" class=\"data row8 col4\" >0.0621323</td> \n",
       "        <td id=\"T_1728c6a8_10e9_11ea_8e95_2cd05a35f73arow8_col5\" class=\"data row8 col5\" >-0.00186319</td> \n",
       "        <td id=\"T_1728c6a8_10e9_11ea_8e95_2cd05a35f73arow8_col6\" class=\"data row8 col6\" >-0.065623</td> \n",
       "        <td id=\"T_1728c6a8_10e9_11ea_8e95_2cd05a35f73arow8_col7\" class=\"data row8 col7\" >-0.383671</td> \n",
       "        <td id=\"T_1728c6a8_10e9_11ea_8e95_2cd05a35f73arow8_col8\" class=\"data row8 col8\" >1</td> \n",
       "        <td id=\"T_1728c6a8_10e9_11ea_8e95_2cd05a35f73arow8_col9\" class=\"data row8 col9\" >0.287812</td> \n",
       "        <td id=\"T_1728c6a8_10e9_11ea_8e95_2cd05a35f73arow8_col10\" class=\"data row8 col10\" >-0.248879</td> \n",
       "        <td id=\"T_1728c6a8_10e9_11ea_8e95_2cd05a35f73arow8_col11\" class=\"data row8 col11\" >0.146783</td> \n",
       "        <td id=\"T_1728c6a8_10e9_11ea_8e95_2cd05a35f73arow8_col12\" class=\"data row8 col12\" >0.224178</td> \n",
       "        <td id=\"T_1728c6a8_10e9_11ea_8e95_2cd05a35f73arow8_col13\" class=\"data row8 col13\" >-0.425085</td> \n",
       "    </tr>    <tr> \n",
       "        <th id=\"T_1728c6a8_10e9_11ea_8e95_2cd05a35f73alevel0_row9\" class=\"row_heading level0 row9\" >oldpeak</th> \n",
       "        <td id=\"T_1728c6a8_10e9_11ea_8e95_2cd05a35f73arow9_col0\" class=\"data row9 col0\" >0.199373</td> \n",
       "        <td id=\"T_1728c6a8_10e9_11ea_8e95_2cd05a35f73arow9_col1\" class=\"data row9 col1\" >0.102641</td> \n",
       "        <td id=\"T_1728c6a8_10e9_11ea_8e95_2cd05a35f73arow9_col2\" class=\"data row9 col2\" >-0.142159</td> \n",
       "        <td id=\"T_1728c6a8_10e9_11ea_8e95_2cd05a35f73arow9_col3\" class=\"data row9 col3\" >0.196793</td> \n",
       "        <td id=\"T_1728c6a8_10e9_11ea_8e95_2cd05a35f73arow9_col4\" class=\"data row9 col4\" >0.0421441</td> \n",
       "        <td id=\"T_1728c6a8_10e9_11ea_8e95_2cd05a35f73arow9_col5\" class=\"data row9 col5\" >0.00706214</td> \n",
       "        <td id=\"T_1728c6a8_10e9_11ea_8e95_2cd05a35f73arow9_col6\" class=\"data row9 col6\" >-0.0555277</td> \n",
       "        <td id=\"T_1728c6a8_10e9_11ea_8e95_2cd05a35f73arow9_col7\" class=\"data row9 col7\" >-0.346742</td> \n",
       "        <td id=\"T_1728c6a8_10e9_11ea_8e95_2cd05a35f73arow9_col8\" class=\"data row9 col8\" >0.287812</td> \n",
       "        <td id=\"T_1728c6a8_10e9_11ea_8e95_2cd05a35f73arow9_col9\" class=\"data row9 col9\" >1</td> \n",
       "        <td id=\"T_1728c6a8_10e9_11ea_8e95_2cd05a35f73arow9_col10\" class=\"data row9 col10\" >-0.577779</td> \n",
       "        <td id=\"T_1728c6a8_10e9_11ea_8e95_2cd05a35f73arow9_col11\" class=\"data row9 col11\" >0.292905</td> \n",
       "        <td id=\"T_1728c6a8_10e9_11ea_8e95_2cd05a35f73arow9_col12\" class=\"data row9 col12\" >0.211675</td> \n",
       "        <td id=\"T_1728c6a8_10e9_11ea_8e95_2cd05a35f73arow9_col13\" class=\"data row9 col13\" >-0.428804</td> \n",
       "    </tr>    <tr> \n",
       "        <th id=\"T_1728c6a8_10e9_11ea_8e95_2cd05a35f73alevel0_row10\" class=\"row_heading level0 row10\" >slope</th> \n",
       "        <td id=\"T_1728c6a8_10e9_11ea_8e95_2cd05a35f73arow10_col0\" class=\"data row10 col0\" >-0.161758</td> \n",
       "        <td id=\"T_1728c6a8_10e9_11ea_8e95_2cd05a35f73arow10_col1\" class=\"data row10 col1\" >-0.0287189</td> \n",
       "        <td id=\"T_1728c6a8_10e9_11ea_8e95_2cd05a35f73arow10_col2\" class=\"data row10 col2\" >0.104675</td> \n",
       "        <td id=\"T_1728c6a8_10e9_11ea_8e95_2cd05a35f73arow10_col3\" class=\"data row10 col3\" >-0.126742</td> \n",
       "        <td id=\"T_1728c6a8_10e9_11ea_8e95_2cd05a35f73arow10_col4\" class=\"data row10 col4\" >0.00557175</td> \n",
       "        <td id=\"T_1728c6a8_10e9_11ea_8e95_2cd05a35f73arow10_col5\" class=\"data row10 col5\" >-0.0465499</td> \n",
       "        <td id=\"T_1728c6a8_10e9_11ea_8e95_2cd05a35f73arow10_col6\" class=\"data row10 col6\" >0.0909151</td> \n",
       "        <td id=\"T_1728c6a8_10e9_11ea_8e95_2cd05a35f73arow10_col7\" class=\"data row10 col7\" >0.388453</td> \n",
       "        <td id=\"T_1728c6a8_10e9_11ea_8e95_2cd05a35f73arow10_col8\" class=\"data row10 col8\" >-0.248879</td> \n",
       "        <td id=\"T_1728c6a8_10e9_11ea_8e95_2cd05a35f73arow10_col9\" class=\"data row10 col9\" >-0.577779</td> \n",
       "        <td id=\"T_1728c6a8_10e9_11ea_8e95_2cd05a35f73arow10_col10\" class=\"data row10 col10\" >1</td> \n",
       "        <td id=\"T_1728c6a8_10e9_11ea_8e95_2cd05a35f73arow10_col11\" class=\"data row10 col11\" >-0.107647</td> \n",
       "        <td id=\"T_1728c6a8_10e9_11ea_8e95_2cd05a35f73arow10_col12\" class=\"data row10 col12\" >-0.096803</td> \n",
       "        <td id=\"T_1728c6a8_10e9_11ea_8e95_2cd05a35f73arow10_col13\" class=\"data row10 col13\" >0.337825</td> \n",
       "    </tr>    <tr> \n",
       "        <th id=\"T_1728c6a8_10e9_11ea_8e95_2cd05a35f73alevel0_row11\" class=\"row_heading level0 row11\" >ca</th> \n",
       "        <td id=\"T_1728c6a8_10e9_11ea_8e95_2cd05a35f73arow11_col0\" class=\"data row11 col0\" >0.364229</td> \n",
       "        <td id=\"T_1728c6a8_10e9_11ea_8e95_2cd05a35f73arow11_col1\" class=\"data row11 col1\" >0.088788</td> \n",
       "        <td id=\"T_1728c6a8_10e9_11ea_8e95_2cd05a35f73arow11_col2\" class=\"data row11 col2\" >-0.226203</td> \n",
       "        <td id=\"T_1728c6a8_10e9_11ea_8e95_2cd05a35f73arow11_col3\" class=\"data row11 col3\" >0.102042</td> \n",
       "        <td id=\"T_1728c6a8_10e9_11ea_8e95_2cd05a35f73arow11_col4\" class=\"data row11 col4\" >0.119006</td> \n",
       "        <td id=\"T_1728c6a8_10e9_11ea_8e95_2cd05a35f73arow11_col5\" class=\"data row11 col5\" >0.151259</td> \n",
       "        <td id=\"T_1728c6a8_10e9_11ea_8e95_2cd05a35f73arow11_col6\" class=\"data row11 col6\" >-0.111317</td> \n",
       "        <td id=\"T_1728c6a8_10e9_11ea_8e95_2cd05a35f73arow11_col7\" class=\"data row11 col7\" >-0.267861</td> \n",
       "        <td id=\"T_1728c6a8_10e9_11ea_8e95_2cd05a35f73arow11_col8\" class=\"data row11 col8\" >0.146783</td> \n",
       "        <td id=\"T_1728c6a8_10e9_11ea_8e95_2cd05a35f73arow11_col9\" class=\"data row11 col9\" >0.292905</td> \n",
       "        <td id=\"T_1728c6a8_10e9_11ea_8e95_2cd05a35f73arow11_col10\" class=\"data row11 col10\" >-0.107647</td> \n",
       "        <td id=\"T_1728c6a8_10e9_11ea_8e95_2cd05a35f73arow11_col11\" class=\"data row11 col11\" >1</td> \n",
       "        <td id=\"T_1728c6a8_10e9_11ea_8e95_2cd05a35f73arow11_col12\" class=\"data row11 col12\" >0.148614</td> \n",
       "        <td id=\"T_1728c6a8_10e9_11ea_8e95_2cd05a35f73arow11_col13\" class=\"data row11 col13\" >-0.467158</td> \n",
       "    </tr>    <tr> \n",
       "        <th id=\"T_1728c6a8_10e9_11ea_8e95_2cd05a35f73alevel0_row12\" class=\"row_heading level0 row12\" >thal</th> \n",
       "        <td id=\"T_1728c6a8_10e9_11ea_8e95_2cd05a35f73arow12_col0\" class=\"data row12 col0\" >0.0633733</td> \n",
       "        <td id=\"T_1728c6a8_10e9_11ea_8e95_2cd05a35f73arow12_col1\" class=\"data row12 col1\" >0.212017</td> \n",
       "        <td id=\"T_1728c6a8_10e9_11ea_8e95_2cd05a35f73arow12_col2\" class=\"data row12 col2\" >-0.16266</td> \n",
       "        <td id=\"T_1728c6a8_10e9_11ea_8e95_2cd05a35f73arow12_col3\" class=\"data row12 col3\" >0.0637733</td> \n",
       "        <td id=\"T_1728c6a8_10e9_11ea_8e95_2cd05a35f73arow12_col4\" class=\"data row12 col4\" >0.0824963</td> \n",
       "        <td id=\"T_1728c6a8_10e9_11ea_8e95_2cd05a35f73arow12_col5\" class=\"data row12 col5\" >-0.0178914</td> \n",
       "        <td id=\"T_1728c6a8_10e9_11ea_8e95_2cd05a35f73arow12_col6\" class=\"data row12 col6\" >-0.00872349</td> \n",
       "        <td id=\"T_1728c6a8_10e9_11ea_8e95_2cd05a35f73arow12_col7\" class=\"data row12 col7\" >-0.111961</td> \n",
       "        <td id=\"T_1728c6a8_10e9_11ea_8e95_2cd05a35f73arow12_col8\" class=\"data row12 col8\" >0.224178</td> \n",
       "        <td id=\"T_1728c6a8_10e9_11ea_8e95_2cd05a35f73arow12_col9\" class=\"data row12 col9\" >0.211675</td> \n",
       "        <td id=\"T_1728c6a8_10e9_11ea_8e95_2cd05a35f73arow12_col10\" class=\"data row12 col10\" >-0.096803</td> \n",
       "        <td id=\"T_1728c6a8_10e9_11ea_8e95_2cd05a35f73arow12_col11\" class=\"data row12 col11\" >0.148614</td> \n",
       "        <td id=\"T_1728c6a8_10e9_11ea_8e95_2cd05a35f73arow12_col12\" class=\"data row12 col12\" >1</td> \n",
       "        <td id=\"T_1728c6a8_10e9_11ea_8e95_2cd05a35f73arow12_col13\" class=\"data row12 col13\" >-0.364399</td> \n",
       "    </tr>    <tr> \n",
       "        <th id=\"T_1728c6a8_10e9_11ea_8e95_2cd05a35f73alevel0_row13\" class=\"row_heading level0 row13\" >target</th> \n",
       "        <td id=\"T_1728c6a8_10e9_11ea_8e95_2cd05a35f73arow13_col0\" class=\"data row13 col0\" >-0.225453</td> \n",
       "        <td id=\"T_1728c6a8_10e9_11ea_8e95_2cd05a35f73arow13_col1\" class=\"data row13 col1\" >-0.285322</td> \n",
       "        <td id=\"T_1728c6a8_10e9_11ea_8e95_2cd05a35f73arow13_col2\" class=\"data row13 col2\" >0.423425</td> \n",
       "        <td id=\"T_1728c6a8_10e9_11ea_8e95_2cd05a35f73arow13_col3\" class=\"data row13 col3\" >-0.148922</td> \n",
       "        <td id=\"T_1728c6a8_10e9_11ea_8e95_2cd05a35f73arow13_col4\" class=\"data row13 col4\" >-0.0765405</td> \n",
       "        <td id=\"T_1728c6a8_10e9_11ea_8e95_2cd05a35f73arow13_col5\" class=\"data row13 col5\" >-0.0046796</td> \n",
       "        <td id=\"T_1728c6a8_10e9_11ea_8e95_2cd05a35f73arow13_col6\" class=\"data row13 col6\" >0.131716</td> \n",
       "        <td id=\"T_1728c6a8_10e9_11ea_8e95_2cd05a35f73arow13_col7\" class=\"data row13 col7\" >0.426655</td> \n",
       "        <td id=\"T_1728c6a8_10e9_11ea_8e95_2cd05a35f73arow13_col8\" class=\"data row13 col8\" >-0.425085</td> \n",
       "        <td id=\"T_1728c6a8_10e9_11ea_8e95_2cd05a35f73arow13_col9\" class=\"data row13 col9\" >-0.428804</td> \n",
       "        <td id=\"T_1728c6a8_10e9_11ea_8e95_2cd05a35f73arow13_col10\" class=\"data row13 col10\" >0.337825</td> \n",
       "        <td id=\"T_1728c6a8_10e9_11ea_8e95_2cd05a35f73arow13_col11\" class=\"data row13 col11\" >-0.467158</td> \n",
       "        <td id=\"T_1728c6a8_10e9_11ea_8e95_2cd05a35f73arow13_col12\" class=\"data row13 col12\" >-0.364399</td> \n",
       "        <td id=\"T_1728c6a8_10e9_11ea_8e95_2cd05a35f73arow13_col13\" class=\"data row13 col13\" >1</td> \n",
       "    </tr></tbody> \n",
       "</table> "
      ],
      "text/plain": [
       "<pandas.io.formats.style.Styler at 0x18b76c94208>"
      ]
     },
     "execution_count": 29,
     "metadata": {},
     "output_type": "execute_result"
    }
   ],
   "source": [
    "heart_corr = heart.corr()\n",
    "heart_corr.style.background_gradient(cmap = plt.get_cmap('bwr'))"
   ]
  },
  {
   "cell_type": "code",
   "execution_count": null,
   "metadata": {},
   "outputs": [],
   "source": [
    "g = sns.FacetGrid(heart, col = 'restecg', row = 'target', hue = 'sex', legend_out = True, height = 3)\n",
    "g.map(sns.kdeplot, 'age', shade = True).add_legend()\n",
    "\n",
    "plt.show()"
   ]
  },
  {
   "cell_type": "code",
   "execution_count": 30,
   "metadata": {},
   "outputs": [
    {
     "data": {
      "image/png": "[encoded data removed]",
      "text/plain": [
       "<Figure size 689x432 with 6 Axes>"
      ]
     },
     "metadata": {
      "needs_background": "light"
     },
     "output_type": "display_data"
    }
   ],
   "source": [
    "g = sns.FacetGrid(heart, col = 'restecg', row = 'target', hue = 'sex', legend_out = True, height = 3)\n",
    "g.map(sns.kdeplot, 'age', shade = True).add_legend()\n",
    "\n",
    "plt.show()"
   ]
  },
  {
   "cell_type": "code",
   "execution_count": null,
   "metadata": {},
   "outputs": [],
   "source": [
    "结果显示，大多数>50%瘦患者在休息时ST-T波异常。检查运动后患者ST值的变化"
   ]
  },
  {
   "cell_type": "code",
   "execution_count": 31,
   "metadata": {
    "scrolled": true
   },
   "outputs": [
    {
     "data": {
      "image/png": "[encoded data removed]",
      "text/plain": [
       "<Figure size 689x432 with 6 Axes>"
      ]
     },
     "metadata": {
      "needs_background": "light"
     },
     "output_type": "display_data"
    }
   ],
   "source": [
    "g4 = sns.FacetGrid(heart, col = 'restecg', row = 'target', hue = 'sex', legend_out = True, height = 3)\n",
    "g4.map(plt.scatter, 'age', 'oldpeak', facecolors = 'none').add_legend()\n",
    "plt.show()"
   ]
  },
  {
   "cell_type": "markdown",
   "metadata": {},
   "source": [
    "<50%瘦的个体ST值在0附近的比例更大。相反，那些>50%瘦的患者ST值较低"
   ]
  },
  {
   "cell_type": "markdown",
   "metadata": {},
   "source": [
    "ST压低代表心室去极化，它位于QRS波复合体和T波之间(Kashou等)。该区域预计是平坦的，\n",
    ">1mm的低气压水平被认为是异常的(Hill和Thomas)。\n",
    "ST期升高或降低均可提示异常。\n",
    "ST期的降低可能提示低钾血症或心肌缺血(Kashou等)。"
   ]
  },
  {
   "cell_type": "markdown",
   "metadata": {},
   "source": [
    "# 性别 sex和胸痛cp类型之间的关系"
   ]
  },
  {
   "cell_type": "code",
   "execution_count": 32,
   "metadata": {},
   "outputs": [
    {
     "data": {
      "image/png": "[encoded data removed]",
      "text/plain": [
       "<Figure size 905x432 with 8 Axes>"
      ]
     },
     "metadata": {
      "needs_background": "light"
     },
     "output_type": "display_data"
    }
   ],
   "source": [
    "g = sns.FacetGrid(heart, col = 'cp', row = 'target', hue = 'sex', legend_out = True, height = 3)\n",
    "g.map(sns.kdeplot, 'age', shade = True).add_legend()\n",
    "plt.legend()\n",
    "plt.show()"
   ]
  },
  {
   "cell_type": "markdown",
   "metadata": {},
   "source": [
    "年龄在55-60岁之间的女性中，胸痛1(典型心绞痛)和明显的心脏疾病(>50%狭窄)的比例要高得多。有趣的是，有胸痛2和3的女性没有明显的心脏问题。记住胸痛的类型有:1:典型心绞痛，2:非典型心绞痛，3:非心绞痛，4:无症状。\n",
    "根据Hermann等人的研究，典型的心绞痛是“(1)胸骨后胸痛或不适，(2)由劳累或情绪压力引起，(3)由休息或硝酸甘油(或两者兼有)缓解”。(赫尔曼等)。非典型性心绞痛是符合2 / 3的标准。无症状性胸痛是指胸痛既没有引起也没有表现出症状。据我所知，这可能是由于心脏附近的其他器官出了问题。肺部疾病。"
   ]
  },
  {
   "cell_type": "code",
   "execution_count": 33,
   "metadata": {},
   "outputs": [
    {
     "data": {
      "image/png": "[encoded data removed]",
      "text/plain": [
       "<Figure size 905x432 with 8 Axes>"
      ]
     },
     "metadata": {
      "needs_background": "light"
     },
     "output_type": "display_data"
    }
   ],
   "source": [
    "g2 = sns.FacetGrid(heart, col = 'cp', row = 'target', hue = 'sex', legend_out = True, height = 3)\n",
    "g2.map(plt.scatter, 'age', 'chol', facecolors = 'none').add_legend()\n",
    "\n",
    "plt.show()"
   ]
  },
  {
   "cell_type": "markdown",
   "metadata": {},
   "source": [
    "更深入的研究显示，只有2名女性患有1型胸痛，且有明显的心脏问题。这就解释了在前一个图中，女性的target = 0 | cp = 1的巨大峰值。还要注意的是，一名女性有2型胸痛和明显的心脏问题。值得注意的是，虽然男性的血脑屏障缩小50%的可能性更大，但这可能是由于女性的样本量有限。"
   ]
  },
  {
   "cell_type": "markdown",
   "metadata": {},
   "source": [
    "由于女性的样本量有限，很难得出男性和女性胸痛差异的结论，>缩小50%。然而，对于那些胸痛小于50%的患者，男性和女性胸痛似乎没有区别。"
   ]
  },
  {
   "cell_type": "markdown",
   "metadata": {},
   "source": [
    "从理论上讲，有心脏病的人应该有更高的胆固醇水平。从上面的情节中很难看出是不是这样。我们用箱线图来代替。我们可以使用groupby dataframe将数据分成两个组(target = 0和target = 1)"
   ]
  },
  {
   "cell_type": "code",
   "execution_count": 34,
   "metadata": {},
   "outputs": [],
   "source": [
    "heart_man = heart[heart['sex'] == 1].groupby('target')[['trestbps', 'chol', 'thalach', 'oldpeak']]\n",
    "heart_woman = heart[heart['sex'] == 0].groupby('target')[['trestbps', 'chol', 'thalach', 'oldpeak']]"
   ]
  },
  {
   "cell_type": "code",
   "execution_count": 35,
   "metadata": {
    "scrolled": false
   },
   "outputs": [
    {
     "data": {
      "text/html": [
       "<div>\n",
       "<style scoped>\n",
       "    .dataframe tbody tr th:only-of-type {\n",
       "        vertical-align: middle;\n",
       "    }\n",
       "\n",
       "    .dataframe tbody tr th {\n",
       "        vertical-align: top;\n",
       "    }\n",
       "\n",
       "    .dataframe thead tr th {\n",
       "        text-align: left;\n",
       "    }\n",
       "\n",
       "    .dataframe thead tr:last-of-type th {\n",
       "        text-align: right;\n",
       "    }\n",
       "</style>\n",
       "<table border=\"1\" class=\"dataframe\">\n",
       "  <thead>\n",
       "    <tr>\n",
       "      <th></th>\n",
       "      <th colspan=\"3\" halign=\"left\">trestbps</th>\n",
       "      <th colspan=\"3\" halign=\"left\">chol</th>\n",
       "      <th colspan=\"3\" halign=\"left\">thalach</th>\n",
       "      <th colspan=\"3\" halign=\"left\">oldpeak</th>\n",
       "    </tr>\n",
       "    <tr>\n",
       "      <th></th>\n",
       "      <th>mean</th>\n",
       "      <th>amax</th>\n",
       "      <th>amin</th>\n",
       "      <th>mean</th>\n",
       "      <th>amax</th>\n",
       "      <th>amin</th>\n",
       "      <th>mean</th>\n",
       "      <th>amax</th>\n",
       "      <th>amin</th>\n",
       "      <th>mean</th>\n",
       "      <th>amax</th>\n",
       "      <th>amin</th>\n",
       "    </tr>\n",
       "    <tr>\n",
       "      <th>target</th>\n",
       "      <th></th>\n",
       "      <th></th>\n",
       "      <th></th>\n",
       "      <th></th>\n",
       "      <th></th>\n",
       "      <th></th>\n",
       "      <th></th>\n",
       "      <th></th>\n",
       "      <th></th>\n",
       "      <th></th>\n",
       "      <th></th>\n",
       "      <th></th>\n",
       "    </tr>\n",
       "  </thead>\n",
       "  <tbody>\n",
       "    <tr>\n",
       "      <th>0</th>\n",
       "      <td>131.964286</td>\n",
       "      <td>192</td>\n",
       "      <td>100</td>\n",
       "      <td>246.428571</td>\n",
       "      <td>353</td>\n",
       "      <td>131</td>\n",
       "      <td>138.205357</td>\n",
       "      <td>195</td>\n",
       "      <td>71</td>\n",
       "      <td>1.549107</td>\n",
       "      <td>5.6</td>\n",
       "      <td>0.0</td>\n",
       "    </tr>\n",
       "    <tr>\n",
       "      <th>1</th>\n",
       "      <td>129.516854</td>\n",
       "      <td>178</td>\n",
       "      <td>94</td>\n",
       "      <td>232.460674</td>\n",
       "      <td>325</td>\n",
       "      <td>126</td>\n",
       "      <td>161.775281</td>\n",
       "      <td>202</td>\n",
       "      <td>105</td>\n",
       "      <td>0.628090</td>\n",
       "      <td>4.2</td>\n",
       "      <td>0.0</td>\n",
       "    </tr>\n",
       "  </tbody>\n",
       "</table>\n",
       "</div>"
      ],
      "text/plain": [
       "          trestbps                  chol               thalach            \\\n",
       "              mean amax amin        mean amax amin        mean amax amin   \n",
       "target                                                                     \n",
       "0       131.964286  192  100  246.428571  353  131  138.205357  195   71   \n",
       "1       129.516854  178   94  232.460674  325  126  161.775281  202  105   \n",
       "\n",
       "         oldpeak            \n",
       "            mean amax amin  \n",
       "target                      \n",
       "0       1.549107  5.6  0.0  \n",
       "1       0.628090  4.2  0.0  "
      ]
     },
     "execution_count": 35,
     "metadata": {},
     "output_type": "execute_result"
    }
   ],
   "source": [
    "heart_man.agg([np.mean, np.max, np.min])"
   ]
  },
  {
   "cell_type": "code",
   "execution_count": 36,
   "metadata": {
    "scrolled": true
   },
   "outputs": [
    {
     "data": {
      "text/html": [
       "<div>\n",
       "<style scoped>\n",
       "    .dataframe tbody tr th:only-of-type {\n",
       "        vertical-align: middle;\n",
       "    }\n",
       "\n",
       "    .dataframe tbody tr th {\n",
       "        vertical-align: top;\n",
       "    }\n",
       "\n",
       "    .dataframe thead tr th {\n",
       "        text-align: left;\n",
       "    }\n",
       "\n",
       "    .dataframe thead tr:last-of-type th {\n",
       "        text-align: right;\n",
       "    }\n",
       "</style>\n",
       "<table border=\"1\" class=\"dataframe\">\n",
       "  <thead>\n",
       "    <tr>\n",
       "      <th></th>\n",
       "      <th colspan=\"3\" halign=\"left\">trestbps</th>\n",
       "      <th colspan=\"3\" halign=\"left\">chol</th>\n",
       "      <th colspan=\"3\" halign=\"left\">thalach</th>\n",
       "      <th colspan=\"3\" halign=\"left\">oldpeak</th>\n",
       "    </tr>\n",
       "    <tr>\n",
       "      <th></th>\n",
       "      <th>mean</th>\n",
       "      <th>amin</th>\n",
       "      <th>amax</th>\n",
       "      <th>mean</th>\n",
       "      <th>amin</th>\n",
       "      <th>amax</th>\n",
       "      <th>mean</th>\n",
       "      <th>amin</th>\n",
       "      <th>amax</th>\n",
       "      <th>mean</th>\n",
       "      <th>amin</th>\n",
       "      <th>amax</th>\n",
       "    </tr>\n",
       "    <tr>\n",
       "      <th>target</th>\n",
       "      <th></th>\n",
       "      <th></th>\n",
       "      <th></th>\n",
       "      <th></th>\n",
       "      <th></th>\n",
       "      <th></th>\n",
       "      <th></th>\n",
       "      <th></th>\n",
       "      <th></th>\n",
       "      <th></th>\n",
       "      <th></th>\n",
       "      <th></th>\n",
       "    </tr>\n",
       "  </thead>\n",
       "  <tbody>\n",
       "    <tr>\n",
       "      <th>0</th>\n",
       "      <td>146.125000</td>\n",
       "      <td>108</td>\n",
       "      <td>200</td>\n",
       "      <td>274.958333</td>\n",
       "      <td>164</td>\n",
       "      <td>409</td>\n",
       "      <td>142.416667</td>\n",
       "      <td>97</td>\n",
       "      <td>174</td>\n",
       "      <td>1.841667</td>\n",
       "      <td>0.0</td>\n",
       "      <td>6.2</td>\n",
       "    </tr>\n",
       "    <tr>\n",
       "      <th>1</th>\n",
       "      <td>128.746479</td>\n",
       "      <td>94</td>\n",
       "      <td>180</td>\n",
       "      <td>257.323944</td>\n",
       "      <td>141</td>\n",
       "      <td>564</td>\n",
       "      <td>154.577465</td>\n",
       "      <td>96</td>\n",
       "      <td>192</td>\n",
       "      <td>0.561972</td>\n",
       "      <td>0.0</td>\n",
       "      <td>2.6</td>\n",
       "    </tr>\n",
       "  </tbody>\n",
       "</table>\n",
       "</div>"
      ],
      "text/plain": [
       "          trestbps                  chol               thalach            \\\n",
       "              mean amin amax        mean amin amax        mean amin amax   \n",
       "target                                                                     \n",
       "0       146.125000  108  200  274.958333  164  409  142.416667   97  174   \n",
       "1       128.746479   94  180  257.323944  141  564  154.577465   96  192   \n",
       "\n",
       "         oldpeak            \n",
       "            mean amin amax  \n",
       "target                      \n",
       "0       1.841667  0.0  6.2  \n",
       "1       0.561972  0.0  2.6  "
      ]
     },
     "execution_count": 36,
     "metadata": {},
     "output_type": "execute_result"
    }
   ],
   "source": [
    "heart_woman.agg([np.mean,np.min,np.max])"
   ]
  },
  {
   "cell_type": "markdown",
   "metadata": {},
   "source": [
    "男性和女性的血管造影疾病状态有差异。他们还发现，当有心脏问题时，女性的静息血压比男性稍高。让我们构建一个箱线图来更好地可视化它"
   ]
  },
  {
   "cell_type": "code",
   "execution_count": 37,
   "metadata": {},
   "outputs": [
    {
     "name": "stderr",
     "output_type": "stream",
     "text": [
      "I:\\APP\\Ananconda\\lib\\site-packages\\IPython\\core\\interactiveshell.py:2961: UserWarning: When passing multiple axes, sharex and sharey are ignored. These settings must be specified when creating axes\n",
      "  exec(code_obj, self.user_global_ns, self.user_ns)\n"
     ]
    },
    {
     "data": {
      "text/plain": [
       "Text(0.5,1,'<50% Narrowing')"
      ]
     },
     "execution_count": 37,
     "metadata": {},
     "output_type": "execute_result"
    },
    {
     "data": {
      "image/png": "[encoded data removed]",
      "text/plain": [
       "<Figure size 1296x432 with 2 Axes>"
      ]
     },
     "metadata": {
      "needs_background": "light"
     },
     "output_type": "display_data"
    }
   ],
   "source": [
    "fig = plt.figure(figsize = (18,6))\n",
    "fig.suptitle('man')\n",
    "ax = fig.subplots(nrows = 1, ncols = 2, sharey = True)\n",
    "heart_man.boxplot(column = ['trestbps', 'chol', 'thalach'], rot = 90, ax = ax)\n",
    "ax[0].set_title('>50% Narrowing')\n",
    "ax[1].set_title('<50% Narrowing')"
   ]
  },
  {
   "cell_type": "code",
   "execution_count": 39,
   "metadata": {
    "scrolled": true
   },
   "outputs": [
    {
     "name": "stderr",
     "output_type": "stream",
     "text": [
      "I:\\APP\\Ananconda\\lib\\site-packages\\IPython\\core\\interactiveshell.py:2961: UserWarning: When passing multiple axes, sharex and sharey are ignored. These settings must be specified when creating axes\n",
      "  exec(code_obj, self.user_global_ns, self.user_ns)\n"
     ]
    },
    {
     "data": {
      "text/plain": [
       "Text(0.5,1,'<50% Narrowing')"
      ]
     },
     "execution_count": 39,
     "metadata": {},
     "output_type": "execute_result"
    },
    {
     "data": {
      "image/png": "[encoded data removed]",
      "text/plain": [
       "<Figure size 1296x432 with 2 Axes>"
      ]
     },
     "metadata": {
      "needs_background": "light"
     },
     "output_type": "display_data"
    }
   ],
   "source": [
    "fig = plt.figure(figsize = (18,6))\n",
    "fig.suptitle('woman')\n",
    "ax = fig.subplots(nrows = 1, ncols = 2, sharey = True)\n",
    "heart_woman.boxplot(column = ['trestbps', 'chol', 'thalach'], rot = 90, ax = ax)\n",
    "ax[0].set_title('>50% Narrowing')\n",
    "ax[1].set_title('<50% Narrowing')"
   ]
  },
  {
   "cell_type": "code",
   "execution_count": 40,
   "metadata": {
    "scrolled": true
   },
   "outputs": [
    {
     "name": "stderr",
     "output_type": "stream",
     "text": [
      "I:\\APP\\Ananconda\\lib\\site-packages\\IPython\\core\\interactiveshell.py:2961: UserWarning: When passing multiple axes, sharex and sharey are ignored. These settings must be specified when creating axes\n",
      "  exec(code_obj, self.user_global_ns, self.user_ns)\n"
     ]
    },
    {
     "data": {
      "text/plain": [
       "Text(0.5,1,'<50% Narrowing')"
      ]
     },
     "execution_count": 40,
     "metadata": {},
     "output_type": "execute_result"
    },
    {
     "data": {
      "image/png": "[encoded data removed]",
      "text/plain": [
       "<Figure size 1296x432 with 2 Axes>"
      ]
     },
     "metadata": {
      "needs_background": "light"
     },
     "output_type": "display_data"
    }
   ],
   "source": [
    "fig = plt.figure(figsize = (18,6))\n",
    "ax = fig.subplots(nrows = 1, ncols = 2, sharey = True)\n",
    "heart_man.boxplot(column = ['oldpeak'], rot = 90, ax = ax)\n",
    "ax[0].set_title('>50% Narrowing')\n",
    "ax[1].set_title('<50% Narrowing')"
   ]
  },
  {
   "cell_type": "code",
   "execution_count": 41,
   "metadata": {
    "scrolled": true
   },
   "outputs": [
    {
     "name": "stderr",
     "output_type": "stream",
     "text": [
      "I:\\APP\\Ananconda\\lib\\site-packages\\IPython\\core\\interactiveshell.py:2961: UserWarning: When passing multiple axes, sharex and sharey are ignored. These settings must be specified when creating axes\n",
      "  exec(code_obj, self.user_global_ns, self.user_ns)\n"
     ]
    },
    {
     "data": {
      "text/plain": [
       "Text(0.5,1,'<50% Narrowing')"
      ]
     },
     "execution_count": 41,
     "metadata": {},
     "output_type": "execute_result"
    },
    {
     "data": {
      "image/png": "[encoded data removed]",
      "text/plain": [
       "<Figure size 1296x432 with 2 Axes>"
      ]
     },
     "metadata": {
      "needs_background": "light"
     },
     "output_type": "display_data"
    }
   ],
   "source": [
    "fig = plt.figure(figsize = (18,6))\n",
    "ax = fig.subplots(nrows = 1, ncols = 2, sharey = True)\n",
    "heart_woman.boxplot(column = ['oldpeak'], rot = 90, ax = ax)\n",
    "ax[0].set_title('>50% Narrowing')\n",
    "ax[1].set_title('<50% Narrowing')"
   ]
  },
  {
   "cell_type": "markdown",
   "metadata": {},
   "source": [
    "箱线图和数据样本都说明女性的胆固醇水平高于男性。"
   ]
  },
  {
   "cell_type": "markdown",
   "metadata": {},
   "source": [
    "ST降低水平在男性和女性之间相似，但在直径变窄上有很大差异。\n",
    "现在让我们再次比较ST型抑郁症和胸痛的类型，这次没有过滤性别。"
   ]
  },
  {
   "cell_type": "code",
   "execution_count": 42,
   "metadata": {
    "scrolled": true
   },
   "outputs": [
    {
     "data": {
      "image/png": "[encoded data removed]",
      "text/plain": [
       "<Figure size 689x432 with 6 Axes>"
      ]
     },
     "metadata": {
      "needs_background": "light"
     },
     "output_type": "display_data"
    }
   ],
   "source": [
    "g5 = sns.FacetGrid(heart, col = 'restecg', row = 'target', hue = 'cp', legend_out = True, height = 3)\n",
    "g5.map(plt.scatter, 'thalach', 'oldpeak', facecolors = 'none').add_legend()\n",
    "\n",
    "plt.show()"
   ]
  },
  {
   "cell_type": "markdown",
   "metadata": {},
   "source": [
    "典型的心绞痛胸痛与血脑屏障50%狭窄有很大的相关性。这很直观，因为心绞痛是由于流向心脏的血液减少而引起的疼痛。非心绞痛性胸痛与<50%的胸径狭窄和最小ST值的降低密切相关。\n",
    "现在让我们找出铊压力测试(thal)的关系。铊压力测试包括将一种核示踪剂铊注入患者心脏，并通过让他们运动来对心脏施加压力。健康的心肌cll应该吸收示踪剂，然后通过核成像来检测。如果心肌在休息时吸收了示踪剂，而不是在运动时，患者将被归类为“可逆缺陷”。如果示踪剂完全没有被吸收，病人将有一个“固定的缺陷”(“心脏压力测试回顾”，n.d.)。\n",
    "注意，数据与给定的数据字典不匹配。正确的解释应该是(1 =固定缺陷，2 =正常，3 =反向缺陷)"
   ]
  },
  {
   "cell_type": "code",
   "execution_count": 43,
   "metadata": {
    "scrolled": true
   },
   "outputs": [
    {
     "data": {
      "image/png": "[encoded data removed]",
      "text/plain": [
       "<Figure size 689x432 with 6 Axes>"
      ]
     },
     "metadata": {
      "needs_background": "light"
     },
     "output_type": "display_data"
    }
   ],
   "source": [
    "g6 = sns.FacetGrid(heart, col = 'thal', row = 'target', hue = 'cp', legend_out = True, height = 3)\n",
    "g6.map(plt.scatter, 'thalach', 'oldpeak', facecolors = 'none').add_legend()\n",
    "\n",
    "plt.show()"
   ]
  },
  {
   "cell_type": "markdown",
   "metadata": {},
   "source": [
    "压力测试和胸痛类型都能很好地提示患者是否有50%的血脑屏障狭窄。大多数有固定缺陷的患者也有50%的胸痛和胸痛。另一方面，大多数在压力测试中结果正常的患者也有<50%的狭窄、非心绞痛性胸痛和较低的ST-depression值。"
   ]
  },
  {
   "cell_type": "markdown",
   "metadata": {},
   "source": [
    "接下来，让我们评估透视结果，看看它与直径的关系。透视法包括通过核成像突出血管"
   ]
  },
  {
   "cell_type": "code",
   "execution_count": 44,
   "metadata": {},
   "outputs": [
    {
     "data": {
      "image/png": "[encoded data removed]",
      "text/plain": [
       "<Figure size 905x432 with 8 Axes>"
      ]
     },
     "metadata": {
      "needs_background": "light"
     },
     "output_type": "display_data"
    }
   ],
   "source": [
    "g6 = sns.FacetGrid(heart, col = 'ca', row = 'target', hue = 'cp', legend_out = True, height = 3)\n",
    "g6.map(plt.scatter, 'thalach', 'oldpeak', facecolors = 'none').add_legend()\n",
    "\n",
    "plt.show()"
   ]
  },
  {
   "cell_type": "markdown",
   "metadata": {},
   "source": [
    "结果显示，心脏血管造影结果与血管直径变窄有轻微的相关性，有一条或多条动脉被染色的人有50%的机会出现>变窄。然而，>50%狭窄的患者有相同的机会有0、1、2或3条动脉通过透视染色。"
   ]
  },
  {
   "cell_type": "markdown",
   "metadata": {},
   "source": [
    "接下来让我们来看看与运动相关的专栏，特别是运动诱发的心绞痛和斜坡。散点图将不再绘制ST洼地，因为“坡度”既具有ST洼地值，也具有高程值"
   ]
  },
  {
   "cell_type": "code",
   "execution_count": 45,
   "metadata": {
    "scrolled": true
   },
   "outputs": [
    {
     "data": {
      "image/png": "[encoded data removed]",
      "text/plain": [
       "<Figure size 473x432 with 4 Axes>"
      ]
     },
     "metadata": {
      "needs_background": "light"
     },
     "output_type": "display_data"
    }
   ],
   "source": [
    "g7 = sns.FacetGrid(heart, col = 'exang', row = 'target', hue = 'slope', legend_out = True, height = 3)\n",
    "g7.map(plt.scatter, 'age', 'thalach', facecolors = 'none').add_legend()\n",
    "plt.show()"
   ]
  },
  {
   "cell_type": "markdown",
   "metadata": {},
   "source": [
    "运动后，ST洼地的坡度应稍向上(提示0 =下斜，1 =平，2 =上平)，但升高1mm为异常(Hill和Timmis)。\n",
    "可以看出，坡度越小，心绞痛发生率越低，而坡度越小，心绞痛发生率越低。有趣的是，在<50%和>50%窄化时，似乎都可以看到向下倾斜。然而，这可能是由于样本量有限。\n",
    "在这个图中，更明显的是，<50%变窄的患者比>50%变窄的患者心率更高，特别是当他们没有运动诱发的心绞痛时。"
   ]
  },
  {
   "cell_type": "markdown",
   "metadata": {},
   "source": [
    "前面，我们发现了男性和女性之间的血压差异。让我们检查一下。"
   ]
  },
  {
   "cell_type": "code",
   "execution_count": 46,
   "metadata": {
    "scrolled": true
   },
   "outputs": [
    {
     "data": {
      "text/plain": [
       "<seaborn.axisgrid.FacetGrid at 0x18b7c9bee48>"
      ]
     },
     "execution_count": 46,
     "metadata": {},
     "output_type": "execute_result"
    },
    {
     "data": {
      "image/png": "[encoded data removed]",
      "text/plain": [
       "<Figure size 761x360 with 2 Axes>"
      ]
     },
     "metadata": {
      "needs_background": "light"
     },
     "output_type": "display_data"
    }
   ],
   "source": [
    "sns.lmplot(x = 'age', y = 'trestbps', hue = 'sex', data = heart, col = 'target', markers=[\"o\", \"x\"], palette=\"Set1\")"
   ]
  },
  {
   "cell_type": "markdown",
   "metadata": {},
   "source": [
    "结果显示，随着年龄的增长，男性和女性的血压都在升高，而小于50%的男性的血压比女性略高。这与早期对健康男性和女性的血压进行比较的研究相吻合，研究表明，健康男性的血压略高于健康女性。(Wiinberg等)。"
   ]
  },
  {
   "cell_type": "markdown",
   "metadata": {},
   "source": [
    "我们做个检验来进一步确认一下。"
   ]
  },
  {
   "cell_type": "code",
   "execution_count": 47,
   "metadata": {},
   "outputs": [
    {
     "name": "stdout",
     "output_type": "stream",
     "text": [
      "130.88059701492537\n",
      "133.13684210526316\n"
     ]
    }
   ],
   "source": [
    "mean_man_bp = heart[heart['sex']==1]['trestbps'].mean()\n",
    "mean_woman_bp = heart[heart['sex']==0]['trestbps'].mean()\n",
    "print(mean_man_bp)\n",
    "print(mean_woman_bp)"
   ]
  },
  {
   "cell_type": "code",
   "execution_count": 48,
   "metadata": {},
   "outputs": [
    {
     "data": {
      "text/plain": [
       "Ttest_indResult(statistic=-1.0223688482467654, pvalue=0.30744686062660237)"
      ]
     },
     "execution_count": 48,
     "metadata": {},
     "output_type": "execute_result"
    }
   ],
   "source": [
    "bp_m_f = sci.stats.ttest_ind(heart[heart['sex']==1]['trestbps'], heart[heart['sex']==0]['trestbps'])\n",
    "bp_m_f"
   ]
  },
  {
   "cell_type": "markdown",
   "metadata": {},
   "source": [
    "经检验，p值为0.31，大于0.05，故本样本男女血压差异不显著。"
   ]
  },
  {
   "cell_type": "markdown",
   "metadata": {},
   "source": [
    "于那些血脑屏障缩小50%的患者，女性的静息血压似乎高于男性。但是，这受到样本量小的限制，大部分女性样本的年龄在50-70岁之间，只有一个女性样本的年龄小于50岁。"
   ]
  },
  {
   "cell_type": "code",
   "execution_count": 49,
   "metadata": {
    "scrolled": true
   },
   "outputs": [
    {
     "data": {
      "text/plain": [
       "<seaborn.axisgrid.FacetGrid at 0x18b7cf166a0>"
      ]
     },
     "execution_count": 49,
     "metadata": {},
     "output_type": "execute_result"
    },
    {
     "data": {
      "image/png": "[encoded data removed]",
      "text/plain": [
       "<Figure size 761x360 with 2 Axes>"
      ]
     },
     "metadata": {
      "needs_background": "light"
     },
     "output_type": "display_data"
    }
   ],
   "source": [
    "sns.lmplot(x = 'age', y = 'thalach', hue = 'sex', data = heart, col = 'target', markers=[\"o\", \"x\"], palette=\"Set1\")"
   ]
  },
  {
   "cell_type": "markdown",
   "metadata": {},
   "source": [
    "小于50%变窄的个体心率随年龄下降。其原因仍在研究中，但部分原因是由于窦房肌细胞(SAMs)的放电降低(Larson等人)，而窦房肌细胞负责通过心脏产生动作电位来引发心跳。对于>缩小50%的个体，数据再次受到年轻女性样本有限的影响。\n",
    "上面两个显示静息血压和最大心率的图在target = 0时都有相同的离群值。让我们找出这个数据点在dataframe中的位置。"
   ]
  },
  {
   "cell_type": "code",
   "execution_count": 50,
   "metadata": {},
   "outputs": [
    {
     "data": {
      "text/html": [
       "<div>\n",
       "<style scoped>\n",
       "    .dataframe tbody tr th:only-of-type {\n",
       "        vertical-align: middle;\n",
       "    }\n",
       "\n",
       "    .dataframe tbody tr th {\n",
       "        vertical-align: top;\n",
       "    }\n",
       "\n",
       "    .dataframe thead th {\n",
       "        text-align: right;\n",
       "    }\n",
       "</style>\n",
       "<table border=\"1\" class=\"dataframe\">\n",
       "  <thead>\n",
       "    <tr style=\"text-align: right;\">\n",
       "      <th></th>\n",
       "      <th>age</th>\n",
       "      <th>sex</th>\n",
       "      <th>cp</th>\n",
       "      <th>trestbps</th>\n",
       "      <th>chol</th>\n",
       "      <th>fbs</th>\n",
       "      <th>restecg</th>\n",
       "      <th>thalach</th>\n",
       "      <th>exang</th>\n",
       "      <th>oldpeak</th>\n",
       "      <th>slope</th>\n",
       "      <th>ca</th>\n",
       "      <th>thal</th>\n",
       "      <th>target</th>\n",
       "    </tr>\n",
       "  </thead>\n",
       "  <tbody>\n",
       "    <tr>\n",
       "      <th>215</th>\n",
       "      <td>43</td>\n",
       "      <td>0</td>\n",
       "      <td>0</td>\n",
       "      <td>132</td>\n",
       "      <td>341</td>\n",
       "      <td>1</td>\n",
       "      <td>0</td>\n",
       "      <td>136</td>\n",
       "      <td>1</td>\n",
       "      <td>3.0</td>\n",
       "      <td>1</td>\n",
       "      <td>0</td>\n",
       "      <td>3</td>\n",
       "      <td>0</td>\n",
       "    </tr>\n",
       "  </tbody>\n",
       "</table>\n",
       "</div>"
      ],
      "text/plain": [
       "     age  sex  cp  trestbps  chol  fbs  restecg  thalach  exang  oldpeak  \\\n",
       "215   43    0   0       132   341    1        0      136      1      3.0   \n",
       "\n",
       "     slope  ca  thal  target  \n",
       "215      1   0     3       0  "
      ]
     },
     "execution_count": 50,
     "metadata": {},
     "output_type": "execute_result"
    }
   ],
   "source": [
    "heart.loc[(heart['sex'] == 0) & (heart['age'] < 45) & (heart['target'] == 0)]"
   ]
  },
  {
   "cell_type": "markdown",
   "metadata": {},
   "source": [
    "在女性样本中胆固醇水平也有异常值。让我们找到这个数据点。"
   ]
  },
  {
   "cell_type": "code",
   "execution_count": 51,
   "metadata": {},
   "outputs": [
    {
     "data": {
      "text/html": [
       "<div>\n",
       "<style scoped>\n",
       "    .dataframe tbody tr th:only-of-type {\n",
       "        vertical-align: middle;\n",
       "    }\n",
       "\n",
       "    .dataframe tbody tr th {\n",
       "        vertical-align: top;\n",
       "    }\n",
       "\n",
       "    .dataframe thead th {\n",
       "        text-align: right;\n",
       "    }\n",
       "</style>\n",
       "<table border=\"1\" class=\"dataframe\">\n",
       "  <thead>\n",
       "    <tr style=\"text-align: right;\">\n",
       "      <th></th>\n",
       "      <th>age</th>\n",
       "      <th>sex</th>\n",
       "      <th>cp</th>\n",
       "      <th>trestbps</th>\n",
       "      <th>chol</th>\n",
       "      <th>fbs</th>\n",
       "      <th>restecg</th>\n",
       "      <th>thalach</th>\n",
       "      <th>exang</th>\n",
       "      <th>oldpeak</th>\n",
       "      <th>slope</th>\n",
       "      <th>ca</th>\n",
       "      <th>thal</th>\n",
       "      <th>target</th>\n",
       "    </tr>\n",
       "  </thead>\n",
       "  <tbody>\n",
       "    <tr>\n",
       "      <th>85</th>\n",
       "      <td>67</td>\n",
       "      <td>0</td>\n",
       "      <td>2</td>\n",
       "      <td>115</td>\n",
       "      <td>564</td>\n",
       "      <td>0</td>\n",
       "      <td>0</td>\n",
       "      <td>160</td>\n",
       "      <td>0</td>\n",
       "      <td>1.6</td>\n",
       "      <td>1</td>\n",
       "      <td>0</td>\n",
       "      <td>3</td>\n",
       "      <td>1</td>\n",
       "    </tr>\n",
       "  </tbody>\n",
       "</table>\n",
       "</div>"
      ],
      "text/plain": [
       "    age  sex  cp  trestbps  chol  fbs  restecg  thalach  exang  oldpeak  \\\n",
       "85   67    0   2       115   564    0        0      160      0      1.6   \n",
       "\n",
       "    slope  ca  thal  target  \n",
       "85      1   0     3       1  "
      ]
     },
     "execution_count": 51,
     "metadata": {},
     "output_type": "execute_result"
    }
   ],
   "source": [
    "heart.loc[heart['chol'] == max(heart['chol'])]"
   ]
  },
  {
   "cell_type": "markdown",
   "metadata": {},
   "source": [
    "删除这些异常值，以防止它们影响机器学习预测"
   ]
  },
  {
   "cell_type": "code",
   "execution_count": 52,
   "metadata": {},
   "outputs": [
    {
     "data": {
      "text/plain": [
       "(294, 14)"
      ]
     },
     "execution_count": 52,
     "metadata": {},
     "output_type": "execute_result"
    }
   ],
   "source": [
    "heart = heart.drop([85, 215])\n",
    "heart.shape"
   ]
  },
  {
   "cell_type": "code",
   "execution_count": 63,
   "metadata": {},
   "outputs": [],
   "source": [
    "shuffled_index = np.random.permutation(heart.index)\n",
    "# shuffle与permutation都是对原来的数组进行重新洗牌\n",
    "train_max_row = math.floor(heart.shape[0] * .7)\n",
    "# floor 向下舍入为最接近的整数\n",
    "\n",
    "heart_dt = heart.copy()\n",
    "heart_dt['sex'] = heart_dt['sex'].astype('object') # astype转换数组的数据类型。\n",
    "heart_dt['cp'] = heart_dt['cp'].astype('object')\n",
    "heart_dt['fbs'] = heart_dt['fbs'].astype('object')\n",
    "heart_dt['restecg'] = heart_dt['restecg'].astype('object')\n",
    "heart_dt['exang'] = heart_dt['exang'].astype('object')\n",
    "heart_dt['slope'] = heart_dt['slope'].astype('object')\n",
    "heart_dt['thal'] = heart_dt['thal'].astype('object')"
   ]
  },
  {
   "cell_type": "code",
   "execution_count": 64,
   "metadata": {
    "scrolled": true
   },
   "outputs": [
    {
     "data": {
      "text/html": [
       "<div>\n",
       "<style scoped>\n",
       "    .dataframe tbody tr th:only-of-type {\n",
       "        vertical-align: middle;\n",
       "    }\n",
       "\n",
       "    .dataframe tbody tr th {\n",
       "        vertical-align: top;\n",
       "    }\n",
       "\n",
       "    .dataframe thead th {\n",
       "        text-align: right;\n",
       "    }\n",
       "</style>\n",
       "<table border=\"1\" class=\"dataframe\">\n",
       "  <thead>\n",
       "    <tr style=\"text-align: right;\">\n",
       "      <th></th>\n",
       "      <th>age</th>\n",
       "      <th>trestbps</th>\n",
       "      <th>chol</th>\n",
       "      <th>thalach</th>\n",
       "      <th>oldpeak</th>\n",
       "      <th>ca</th>\n",
       "      <th>target</th>\n",
       "      <th>sex_1</th>\n",
       "      <th>cp_1</th>\n",
       "      <th>cp_2</th>\n",
       "      <th>cp_3</th>\n",
       "      <th>fbs_1</th>\n",
       "      <th>restecg_1</th>\n",
       "      <th>restecg_2</th>\n",
       "      <th>exang_1</th>\n",
       "      <th>slope_1</th>\n",
       "      <th>slope_2</th>\n",
       "      <th>thal_2</th>\n",
       "      <th>thal_3</th>\n",
       "    </tr>\n",
       "  </thead>\n",
       "  <tbody>\n",
       "    <tr>\n",
       "      <th>0</th>\n",
       "      <td>63</td>\n",
       "      <td>145</td>\n",
       "      <td>233</td>\n",
       "      <td>150</td>\n",
       "      <td>2.3</td>\n",
       "      <td>0</td>\n",
       "      <td>1</td>\n",
       "      <td>1</td>\n",
       "      <td>0</td>\n",
       "      <td>0</td>\n",
       "      <td>1</td>\n",
       "      <td>1</td>\n",
       "      <td>0</td>\n",
       "      <td>0</td>\n",
       "      <td>0</td>\n",
       "      <td>0</td>\n",
       "      <td>0</td>\n",
       "      <td>0</td>\n",
       "      <td>0</td>\n",
       "    </tr>\n",
       "    <tr>\n",
       "      <th>1</th>\n",
       "      <td>37</td>\n",
       "      <td>130</td>\n",
       "      <td>250</td>\n",
       "      <td>187</td>\n",
       "      <td>3.5</td>\n",
       "      <td>0</td>\n",
       "      <td>1</td>\n",
       "      <td>1</td>\n",
       "      <td>0</td>\n",
       "      <td>1</td>\n",
       "      <td>0</td>\n",
       "      <td>0</td>\n",
       "      <td>1</td>\n",
       "      <td>0</td>\n",
       "      <td>0</td>\n",
       "      <td>0</td>\n",
       "      <td>0</td>\n",
       "      <td>1</td>\n",
       "      <td>0</td>\n",
       "    </tr>\n",
       "    <tr>\n",
       "      <th>2</th>\n",
       "      <td>41</td>\n",
       "      <td>130</td>\n",
       "      <td>204</td>\n",
       "      <td>172</td>\n",
       "      <td>1.4</td>\n",
       "      <td>0</td>\n",
       "      <td>1</td>\n",
       "      <td>0</td>\n",
       "      <td>1</td>\n",
       "      <td>0</td>\n",
       "      <td>0</td>\n",
       "      <td>0</td>\n",
       "      <td>0</td>\n",
       "      <td>0</td>\n",
       "      <td>0</td>\n",
       "      <td>0</td>\n",
       "      <td>1</td>\n",
       "      <td>1</td>\n",
       "      <td>0</td>\n",
       "    </tr>\n",
       "    <tr>\n",
       "      <th>3</th>\n",
       "      <td>56</td>\n",
       "      <td>120</td>\n",
       "      <td>236</td>\n",
       "      <td>178</td>\n",
       "      <td>0.8</td>\n",
       "      <td>0</td>\n",
       "      <td>1</td>\n",
       "      <td>1</td>\n",
       "      <td>1</td>\n",
       "      <td>0</td>\n",
       "      <td>0</td>\n",
       "      <td>0</td>\n",
       "      <td>1</td>\n",
       "      <td>0</td>\n",
       "      <td>0</td>\n",
       "      <td>0</td>\n",
       "      <td>1</td>\n",
       "      <td>1</td>\n",
       "      <td>0</td>\n",
       "    </tr>\n",
       "    <tr>\n",
       "      <th>4</th>\n",
       "      <td>57</td>\n",
       "      <td>120</td>\n",
       "      <td>354</td>\n",
       "      <td>163</td>\n",
       "      <td>0.6</td>\n",
       "      <td>0</td>\n",
       "      <td>1</td>\n",
       "      <td>0</td>\n",
       "      <td>0</td>\n",
       "      <td>0</td>\n",
       "      <td>0</td>\n",
       "      <td>0</td>\n",
       "      <td>1</td>\n",
       "      <td>0</td>\n",
       "      <td>1</td>\n",
       "      <td>0</td>\n",
       "      <td>1</td>\n",
       "      <td>1</td>\n",
       "      <td>0</td>\n",
       "    </tr>\n",
       "  </tbody>\n",
       "</table>\n",
       "</div>"
      ],
      "text/plain": [
       "   age  trestbps  chol  thalach  oldpeak  ca  target  sex_1  cp_1  cp_2  cp_3  \\\n",
       "0   63       145   233      150      2.3   0       1      1     0     0     1   \n",
       "1   37       130   250      187      3.5   0       1      1     0     1     0   \n",
       "2   41       130   204      172      1.4   0       1      0     1     0     0   \n",
       "3   56       120   236      178      0.8   0       1      1     1     0     0   \n",
       "4   57       120   354      163      0.6   0       1      0     0     0     0   \n",
       "\n",
       "   fbs_1  restecg_1  restecg_2  exang_1  slope_1  slope_2  thal_2  thal_3  \n",
       "0      1          0          0        0        0        0       0       0  \n",
       "1      0          1          0        0        0        0       1       0  \n",
       "2      0          0          0        0        0        1       1       0  \n",
       "3      0          1          0        0        0        1       1       0  \n",
       "4      0          1          0        1        0        1       1       0  "
      ]
     },
     "execution_count": 64,
     "metadata": {},
     "output_type": "execute_result"
    }
   ],
   "source": [
    "heart_dt = pd.get_dummies(heart_dt, drop_first=True)\n",
    "heart_dt.head()"
   ]
  },
  {
   "cell_type": "code",
   "execution_count": 65,
   "metadata": {
    "scrolled": true
   },
   "outputs": [
    {
     "data": {
      "text/plain": [
       "['age',\n",
       " 'trestbps',\n",
       " 'chol',\n",
       " 'thalach',\n",
       " 'oldpeak',\n",
       " 'ca',\n",
       " 'sex_1',\n",
       " 'cp_1',\n",
       " 'cp_2',\n",
       " 'cp_3',\n",
       " 'fbs_1',\n",
       " 'restecg_1',\n",
       " 'restecg_2',\n",
       " 'exang_1',\n",
       " 'slope_1',\n",
       " 'slope_2',\n",
       " 'thal_2',\n",
       " 'thal_3']"
      ]
     },
     "execution_count": 65,
     "metadata": {},
     "output_type": "execute_result"
    }
   ],
   "source": [
    "columns = list(heart_dt.columns)\n",
    "columns.remove('target')\n",
    "columns"
   ]
  },
  {
   "cell_type": "markdown",
   "metadata": {},
   "source": [
    "分割训练和测试数据集"
   ]
  },
  {
   "cell_type": "code",
   "execution_count": 66,
   "metadata": {},
   "outputs": [],
   "source": [
    "heart_data = heart_dt[columns]\n",
    "heart_label = heart_dt['target']"
   ]
  },
  {
   "cell_type": "code",
   "execution_count": 67,
   "metadata": {},
   "outputs": [],
   "source": [
    "from sklearn.model_selection import train_test_split"
   ]
  },
  {
   "cell_type": "code",
   "execution_count": 76,
   "metadata": {},
   "outputs": [],
   "source": [
    "X_train,X_test,y_train,y_test = train_test_split(heart_data,heart_label,test_size=0.2)"
   ]
  },
  {
   "cell_type": "code",
   "execution_count": 73,
   "metadata": {
    "scrolled": false
   },
   "outputs": [
    {
     "name": "stdout",
     "output_type": "stream",
     "text": [
      "(294, 18)\n",
      "(294,)\n",
      "(235, 18)\n",
      "(59, 18)\n",
      "(235,)\n",
      "(59,)\n"
     ]
    }
   ],
   "source": [
    "print(heart_data.shape)\n",
    "print(heart_label.shape)\n",
    "print(X_train.shape)\n",
    "print(X_test.shape)\n",
    "print(y_train.shape)\n",
    "print(y_test.shape)"
   ]
  },
  {
   "cell_type": "code",
   "execution_count": 77,
   "metadata": {},
   "outputs": [
    {
     "data": {
      "text/plain": [
       "1    123\n",
       "0    112\n",
       "Name: target, dtype: int64"
      ]
     },
     "execution_count": 77,
     "metadata": {},
     "output_type": "execute_result"
    }
   ],
   "source": [
    "y_train.value_counts()"
   ]
  },
  {
   "cell_type": "code",
   "execution_count": 78,
   "metadata": {},
   "outputs": [
    {
     "data": {
      "text/plain": [
       "0.7288135593220338"
      ]
     },
     "execution_count": 78,
     "metadata": {},
     "output_type": "execute_result"
    }
   ],
   "source": [
    "DecisionTree= DecisionTreeClassifier()  # 决策树\n",
    "DecisionTree.fit(X_train,y_train).score(X_test,y_test)"
   ]
  },
  {
   "cell_type": "code",
   "execution_count": 82,
   "metadata": {},
   "outputs": [
    {
     "data": {
      "text/plain": [
       "1.0"
      ]
     },
     "execution_count": 82,
     "metadata": {},
     "output_type": "execute_result"
    }
   ],
   "source": [
    "DecisionTree.fit(X_train,y_train).score(X_train,y_train)"
   ]
  },
  {
   "cell_type": "markdown",
   "metadata": {},
   "source": [
    "这个模型显然是对训练数据的过度拟合。训练集的准确率为100%，而测试集的roc_auc_score仅为74%。我们需要试着调优一些超参数。但是，让我们首先将当前的决策树可视化"
   ]
  },
  {
   "cell_type": "code",
   "execution_count": 83,
   "metadata": {},
   "outputs": [
    {
     "data": {
      "text/plain": [
       "0.8945775261324042"
      ]
     },
     "execution_count": 83,
     "metadata": {},
     "output_type": "execute_result"
    }
   ],
   "source": [
    "# Random Forest 随机森林\n",
    "from sklearn.ensemble import RandomForestRegressor\n",
    "forest_model = RandomForestRegressor()\n",
    "forest_model.fit(X_train,y_train).score(X_train,y_train)"
   ]
  },
  {
   "cell_type": "code",
   "execution_count": 84,
   "metadata": {
    "scrolled": true
   },
   "outputs": [
    {
     "data": {
      "text/plain": [
       "0.8790541521486643"
      ]
     },
     "execution_count": 84,
     "metadata": {},
     "output_type": "execute_result"
    }
   ],
   "source": [
    "forest_model.fit(X_train,y_train).score(X_train,y_train)"
   ]
  },
  {
   "cell_type": "markdown",
   "metadata": {},
   "source": [
    "# 归一化"
   ]
  },
  {
   "cell_type": "code",
   "execution_count": 87,
   "metadata": {
    "scrolled": true
   },
   "outputs": [
    {
     "data": {
      "text/html": [
       "<div>\n",
       "<style scoped>\n",
       "    .dataframe tbody tr th:only-of-type {\n",
       "        vertical-align: middle;\n",
       "    }\n",
       "\n",
       "    .dataframe tbody tr th {\n",
       "        vertical-align: top;\n",
       "    }\n",
       "\n",
       "    .dataframe thead th {\n",
       "        text-align: right;\n",
       "    }\n",
       "</style>\n",
       "<table border=\"1\" class=\"dataframe\">\n",
       "  <thead>\n",
       "    <tr style=\"text-align: right;\">\n",
       "      <th></th>\n",
       "      <th>age</th>\n",
       "      <th>trestbps</th>\n",
       "      <th>chol</th>\n",
       "      <th>thalach</th>\n",
       "      <th>oldpeak</th>\n",
       "      <th>ca</th>\n",
       "      <th>target</th>\n",
       "      <th>sex_1</th>\n",
       "      <th>cp_1</th>\n",
       "      <th>cp_2</th>\n",
       "      <th>cp_3</th>\n",
       "      <th>fbs_1</th>\n",
       "      <th>restecg_1</th>\n",
       "      <th>restecg_2</th>\n",
       "      <th>exang_1</th>\n",
       "      <th>slope_1</th>\n",
       "      <th>slope_2</th>\n",
       "      <th>thal_2</th>\n",
       "      <th>thal_3</th>\n",
       "    </tr>\n",
       "  </thead>\n",
       "  <tbody>\n",
       "    <tr>\n",
       "      <th>0</th>\n",
       "      <td>63</td>\n",
       "      <td>145</td>\n",
       "      <td>233</td>\n",
       "      <td>150</td>\n",
       "      <td>2.3</td>\n",
       "      <td>0</td>\n",
       "      <td>1</td>\n",
       "      <td>1</td>\n",
       "      <td>0</td>\n",
       "      <td>0</td>\n",
       "      <td>1</td>\n",
       "      <td>1</td>\n",
       "      <td>0</td>\n",
       "      <td>0</td>\n",
       "      <td>0</td>\n",
       "      <td>0</td>\n",
       "      <td>0</td>\n",
       "      <td>0</td>\n",
       "      <td>0</td>\n",
       "    </tr>\n",
       "    <tr>\n",
       "      <th>1</th>\n",
       "      <td>37</td>\n",
       "      <td>130</td>\n",
       "      <td>250</td>\n",
       "      <td>187</td>\n",
       "      <td>3.5</td>\n",
       "      <td>0</td>\n",
       "      <td>1</td>\n",
       "      <td>1</td>\n",
       "      <td>0</td>\n",
       "      <td>1</td>\n",
       "      <td>0</td>\n",
       "      <td>0</td>\n",
       "      <td>1</td>\n",
       "      <td>0</td>\n",
       "      <td>0</td>\n",
       "      <td>0</td>\n",
       "      <td>0</td>\n",
       "      <td>1</td>\n",
       "      <td>0</td>\n",
       "    </tr>\n",
       "    <tr>\n",
       "      <th>2</th>\n",
       "      <td>41</td>\n",
       "      <td>130</td>\n",
       "      <td>204</td>\n",
       "      <td>172</td>\n",
       "      <td>1.4</td>\n",
       "      <td>0</td>\n",
       "      <td>1</td>\n",
       "      <td>0</td>\n",
       "      <td>1</td>\n",
       "      <td>0</td>\n",
       "      <td>0</td>\n",
       "      <td>0</td>\n",
       "      <td>0</td>\n",
       "      <td>0</td>\n",
       "      <td>0</td>\n",
       "      <td>0</td>\n",
       "      <td>1</td>\n",
       "      <td>1</td>\n",
       "      <td>0</td>\n",
       "    </tr>\n",
       "    <tr>\n",
       "      <th>3</th>\n",
       "      <td>56</td>\n",
       "      <td>120</td>\n",
       "      <td>236</td>\n",
       "      <td>178</td>\n",
       "      <td>0.8</td>\n",
       "      <td>0</td>\n",
       "      <td>1</td>\n",
       "      <td>1</td>\n",
       "      <td>1</td>\n",
       "      <td>0</td>\n",
       "      <td>0</td>\n",
       "      <td>0</td>\n",
       "      <td>1</td>\n",
       "      <td>0</td>\n",
       "      <td>0</td>\n",
       "      <td>0</td>\n",
       "      <td>1</td>\n",
       "      <td>1</td>\n",
       "      <td>0</td>\n",
       "    </tr>\n",
       "    <tr>\n",
       "      <th>4</th>\n",
       "      <td>57</td>\n",
       "      <td>120</td>\n",
       "      <td>354</td>\n",
       "      <td>163</td>\n",
       "      <td>0.6</td>\n",
       "      <td>0</td>\n",
       "      <td>1</td>\n",
       "      <td>0</td>\n",
       "      <td>0</td>\n",
       "      <td>0</td>\n",
       "      <td>0</td>\n",
       "      <td>0</td>\n",
       "      <td>1</td>\n",
       "      <td>0</td>\n",
       "      <td>1</td>\n",
       "      <td>0</td>\n",
       "      <td>1</td>\n",
       "      <td>1</td>\n",
       "      <td>0</td>\n",
       "    </tr>\n",
       "  </tbody>\n",
       "</table>\n",
       "</div>"
      ],
      "text/plain": [
       "   age  trestbps  chol  thalach  oldpeak  ca  target  sex_1  cp_1  cp_2  cp_3  \\\n",
       "0   63       145   233      150      2.3   0       1      1     0     0     1   \n",
       "1   37       130   250      187      3.5   0       1      1     0     1     0   \n",
       "2   41       130   204      172      1.4   0       1      0     1     0     0   \n",
       "3   56       120   236      178      0.8   0       1      1     1     0     0   \n",
       "4   57       120   354      163      0.6   0       1      0     0     0     0   \n",
       "\n",
       "   fbs_1  restecg_1  restecg_2  exang_1  slope_1  slope_2  thal_2  thal_3  \n",
       "0      1          0          0        0        0        0       0       0  \n",
       "1      0          1          0        0        0        0       1       0  \n",
       "2      0          0          0        0        0        1       1       0  \n",
       "3      0          1          0        0        0        1       1       0  \n",
       "4      0          1          0        1        0        1       1       0  "
      ]
     },
     "execution_count": 87,
     "metadata": {},
     "output_type": "execute_result"
    }
   ],
   "source": [
    "heart_deal = heart_dt.copy()\n",
    "heart_deal.head()"
   ]
  },
  {
   "cell_type": "code",
   "execution_count": 88,
   "metadata": {},
   "outputs": [],
   "source": [
    "from sklearn.preprocessing import MinMaxScaler\n",
    "Scaler = MinMaxScaler()"
   ]
  },
  {
   "cell_type": "code",
   "execution_count": 90,
   "metadata": {},
   "outputs": [
    {
     "data": {
      "text/plain": [
       "array([[0.70833333, 0.48113208, 0.36769759, ..., 0.        , 0.        ,\n",
       "        0.        ],\n",
       "       [0.16666667, 0.33962264, 0.42611684, ..., 0.        , 1.        ,\n",
       "        0.        ],\n",
       "       [0.25      , 0.33962264, 0.26804124, ..., 1.        , 1.        ,\n",
       "        0.        ],\n",
       "       ...,\n",
       "       [0.8125    , 0.47169811, 0.23024055, ..., 0.        , 0.        ,\n",
       "        1.        ],\n",
       "       [0.58333333, 0.33962264, 0.01718213, ..., 0.        , 0.        ,\n",
       "        1.        ],\n",
       "       [0.58333333, 0.33962264, 0.37800687, ..., 0.        , 1.        ,\n",
       "        0.        ]])"
      ]
     },
     "execution_count": 90,
     "metadata": {},
     "output_type": "execute_result"
    }
   ],
   "source": [
    "Scaler.fit(heart_deal)\n",
    "a = Scaler.transform(heart_deal)\n",
    "a"
   ]
  },
  {
   "cell_type": "code",
   "execution_count": 91,
   "metadata": {},
   "outputs": [],
   "source": [
    "heart_deal = pd.DataFrame(a)"
   ]
  },
  {
   "cell_type": "code",
   "execution_count": 93,
   "metadata": {},
   "outputs": [
    {
     "data": {
      "text/html": [
       "<div>\n",
       "<style scoped>\n",
       "    .dataframe tbody tr th:only-of-type {\n",
       "        vertical-align: middle;\n",
       "    }\n",
       "\n",
       "    .dataframe tbody tr th {\n",
       "        vertical-align: top;\n",
       "    }\n",
       "\n",
       "    .dataframe thead th {\n",
       "        text-align: right;\n",
       "    }\n",
       "</style>\n",
       "<table border=\"1\" class=\"dataframe\">\n",
       "  <thead>\n",
       "    <tr style=\"text-align: right;\">\n",
       "      <th></th>\n",
       "      <th>age</th>\n",
       "      <th>trestbps</th>\n",
       "      <th>chol</th>\n",
       "      <th>thalach</th>\n",
       "      <th>oldpeak</th>\n",
       "      <th>ca</th>\n",
       "      <th>target</th>\n",
       "      <th>sex_1</th>\n",
       "      <th>cp_1</th>\n",
       "      <th>cp_2</th>\n",
       "      <th>cp_3</th>\n",
       "      <th>fbs_1</th>\n",
       "      <th>restecg_1</th>\n",
       "      <th>restecg_2</th>\n",
       "      <th>exang_1</th>\n",
       "      <th>slope_1</th>\n",
       "      <th>slope_2</th>\n",
       "      <th>thal_2</th>\n",
       "      <th>thal_3</th>\n",
       "    </tr>\n",
       "  </thead>\n",
       "  <tbody>\n",
       "    <tr>\n",
       "      <th>0</th>\n",
       "      <td>0.708333</td>\n",
       "      <td>0.481132</td>\n",
       "      <td>0.367698</td>\n",
       "      <td>0.603053</td>\n",
       "      <td>0.370968</td>\n",
       "      <td>0.0</td>\n",
       "      <td>1.0</td>\n",
       "      <td>1.0</td>\n",
       "      <td>0.0</td>\n",
       "      <td>0.0</td>\n",
       "      <td>1.0</td>\n",
       "      <td>1.0</td>\n",
       "      <td>0.0</td>\n",
       "      <td>0.0</td>\n",
       "      <td>0.0</td>\n",
       "      <td>0.0</td>\n",
       "      <td>0.0</td>\n",
       "      <td>0.0</td>\n",
       "      <td>0.0</td>\n",
       "    </tr>\n",
       "    <tr>\n",
       "      <th>1</th>\n",
       "      <td>0.166667</td>\n",
       "      <td>0.339623</td>\n",
       "      <td>0.426117</td>\n",
       "      <td>0.885496</td>\n",
       "      <td>0.564516</td>\n",
       "      <td>0.0</td>\n",
       "      <td>1.0</td>\n",
       "      <td>1.0</td>\n",
       "      <td>0.0</td>\n",
       "      <td>1.0</td>\n",
       "      <td>0.0</td>\n",
       "      <td>0.0</td>\n",
       "      <td>1.0</td>\n",
       "      <td>0.0</td>\n",
       "      <td>0.0</td>\n",
       "      <td>0.0</td>\n",
       "      <td>0.0</td>\n",
       "      <td>1.0</td>\n",
       "      <td>0.0</td>\n",
       "    </tr>\n",
       "    <tr>\n",
       "      <th>2</th>\n",
       "      <td>0.250000</td>\n",
       "      <td>0.339623</td>\n",
       "      <td>0.268041</td>\n",
       "      <td>0.770992</td>\n",
       "      <td>0.225806</td>\n",
       "      <td>0.0</td>\n",
       "      <td>1.0</td>\n",
       "      <td>0.0</td>\n",
       "      <td>1.0</td>\n",
       "      <td>0.0</td>\n",
       "      <td>0.0</td>\n",
       "      <td>0.0</td>\n",
       "      <td>0.0</td>\n",
       "      <td>0.0</td>\n",
       "      <td>0.0</td>\n",
       "      <td>0.0</td>\n",
       "      <td>1.0</td>\n",
       "      <td>1.0</td>\n",
       "      <td>0.0</td>\n",
       "    </tr>\n",
       "    <tr>\n",
       "      <th>3</th>\n",
       "      <td>0.562500</td>\n",
       "      <td>0.245283</td>\n",
       "      <td>0.378007</td>\n",
       "      <td>0.816794</td>\n",
       "      <td>0.129032</td>\n",
       "      <td>0.0</td>\n",
       "      <td>1.0</td>\n",
       "      <td>1.0</td>\n",
       "      <td>1.0</td>\n",
       "      <td>0.0</td>\n",
       "      <td>0.0</td>\n",
       "      <td>0.0</td>\n",
       "      <td>1.0</td>\n",
       "      <td>0.0</td>\n",
       "      <td>0.0</td>\n",
       "      <td>0.0</td>\n",
       "      <td>1.0</td>\n",
       "      <td>1.0</td>\n",
       "      <td>0.0</td>\n",
       "    </tr>\n",
       "    <tr>\n",
       "      <th>4</th>\n",
       "      <td>0.583333</td>\n",
       "      <td>0.245283</td>\n",
       "      <td>0.783505</td>\n",
       "      <td>0.702290</td>\n",
       "      <td>0.096774</td>\n",
       "      <td>0.0</td>\n",
       "      <td>1.0</td>\n",
       "      <td>0.0</td>\n",
       "      <td>0.0</td>\n",
       "      <td>0.0</td>\n",
       "      <td>0.0</td>\n",
       "      <td>0.0</td>\n",
       "      <td>1.0</td>\n",
       "      <td>0.0</td>\n",
       "      <td>1.0</td>\n",
       "      <td>0.0</td>\n",
       "      <td>1.0</td>\n",
       "      <td>1.0</td>\n",
       "      <td>0.0</td>\n",
       "    </tr>\n",
       "  </tbody>\n",
       "</table>\n",
       "</div>"
      ],
      "text/plain": [
       "        age  trestbps      chol   thalach   oldpeak   ca  target  sex_1  cp_1  \\\n",
       "0  0.708333  0.481132  0.367698  0.603053  0.370968  0.0     1.0    1.0   0.0   \n",
       "1  0.166667  0.339623  0.426117  0.885496  0.564516  0.0     1.0    1.0   0.0   \n",
       "2  0.250000  0.339623  0.268041  0.770992  0.225806  0.0     1.0    0.0   1.0   \n",
       "3  0.562500  0.245283  0.378007  0.816794  0.129032  0.0     1.0    1.0   1.0   \n",
       "4  0.583333  0.245283  0.783505  0.702290  0.096774  0.0     1.0    0.0   0.0   \n",
       "\n",
       "   cp_2  cp_3  fbs_1  restecg_1  restecg_2  exang_1  slope_1  slope_2  thal_2  \\\n",
       "0   0.0   1.0    1.0        0.0        0.0      0.0      0.0      0.0     0.0   \n",
       "1   1.0   0.0    0.0        1.0        0.0      0.0      0.0      0.0     1.0   \n",
       "2   0.0   0.0    0.0        0.0        0.0      0.0      0.0      1.0     1.0   \n",
       "3   0.0   0.0    0.0        1.0        0.0      0.0      0.0      1.0     1.0   \n",
       "4   0.0   0.0    0.0        1.0        0.0      1.0      0.0      1.0     1.0   \n",
       "\n",
       "   thal_3  \n",
       "0     0.0  \n",
       "1     0.0  \n",
       "2     0.0  \n",
       "3     0.0  \n",
       "4     0.0  "
      ]
     },
     "execution_count": 93,
     "metadata": {},
     "output_type": "execute_result"
    }
   ],
   "source": [
    "heart_deal.columns=heart_dt.columns\n",
    "heart_deal.head()"
   ]
  },
  {
   "cell_type": "code",
   "execution_count": 94,
   "metadata": {},
   "outputs": [
    {
     "data": {
      "text/plain": [
       "['age',\n",
       " 'trestbps',\n",
       " 'chol',\n",
       " 'thalach',\n",
       " 'oldpeak',\n",
       " 'ca',\n",
       " 'sex_1',\n",
       " 'cp_1',\n",
       " 'cp_2',\n",
       " 'cp_3',\n",
       " 'fbs_1',\n",
       " 'restecg_1',\n",
       " 'restecg_2',\n",
       " 'exang_1',\n",
       " 'slope_1',\n",
       " 'slope_2',\n",
       " 'thal_2',\n",
       " 'thal_3']"
      ]
     },
     "execution_count": 94,
     "metadata": {},
     "output_type": "execute_result"
    }
   ],
   "source": [
    "col = list(heart_dt.columns)\n",
    "col.remove(\"target\")\n",
    "col"
   ]
  },
  {
   "cell_type": "code",
   "execution_count": 95,
   "metadata": {},
   "outputs": [],
   "source": [
    "X= heart_dt[col]\n",
    "y = heart_dt['target']"
   ]
  },
  {
   "cell_type": "code",
   "execution_count": 96,
   "metadata": {},
   "outputs": [],
   "source": [
    "X_train_,X_test_,y_train_,y_test_ = train_test_split(X,y,test_size=0.2)"
   ]
  },
  {
   "cell_type": "code",
   "execution_count": 97,
   "metadata": {},
   "outputs": [
    {
     "data": {
      "text/plain": [
       "0.8982434640522876"
      ]
     },
     "execution_count": 97,
     "metadata": {},
     "output_type": "execute_result"
    }
   ],
   "source": [
    "# Random Forest 随机森林\n",
    "from sklearn.ensemble import RandomForestRegressor\n",
    "forest_model_deal = RandomForestRegressor()\n",
    "forest_model_deal.fit(X_train_,y_train_).score(X_train_,y_train_)"
   ]
  },
  {
   "cell_type": "code",
   "execution_count": 98,
   "metadata": {},
   "outputs": [
    {
     "data": {
      "text/plain": [
       "1.0"
      ]
     },
     "execution_count": 98,
     "metadata": {},
     "output_type": "execute_result"
    }
   ],
   "source": [
    "DecisionTree_deal= DecisionTreeClassifier()  # 决策树\n",
    "DecisionTree_deal.fit(X_train_,y_train_).score(X_train_,y_train_)"
   ]
  },
  {
   "cell_type": "code",
   "execution_count": 99,
   "metadata": {},
   "outputs": [
    {
     "data": {
      "text/plain": [
       "1.0"
      ]
     },
     "execution_count": 99,
     "metadata": {},
     "output_type": "execute_result"
    }
   ],
   "source": [
    "DecisionTree_deal.fit(X_train_,y_train_).score(X_train_,y_train_)"
   ]
  }
 ],
 "metadata": {
  "kernelspec": {
   "display_name": "Python 3",
   "language": "python",
   "name": "python3"
  },
  "language_info": {
   "codemirror_mode": {
    "name": "ipython",
    "version": 3
   },
   "file_extension": ".py",
   "mimetype": "text/x-python",
   "name": "python",
   "nbconvert_exporter": "python",
   "pygments_lexer": "ipython3",
   "version": "3.7.0"
  }
 },
 "nbformat": 4,
 "nbformat_minor": 2
}
