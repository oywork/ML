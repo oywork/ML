{
 "cells": [
  {
   "cell_type": "code",
   "execution_count": null,
   "metadata": {},
   "outputs": [],
   "source": [
    "heart_dt = heart_dt.reindex(shuffled_index)\n",
    "heart_data = heart_dt[columns]\n",
    "heart_label = heart_dt['target']\n",
    "train_heart_data = heart_data.iloc[:train_max_row]\n",
    "test_heart_data = heart_data.iloc[train_max_row:]\n",
    "train_heart_label = heart_label.iloc[:train_max_row]\n",
    "test_heart_label = heart_label.iloc[train_max_row:]"
   ]
  },
  {
   "cell_type": "code",
   "execution_count": null,
   "metadata": {},
   "outputs": [],
   "source": [
    "clf = DecisionTreeClassifier()\n",
    "clf.fit(train_heart_data, train_heart_label)\n",
    "predictions_train = clf.predict(train_heart_data)\n",
    "predictions = clf.predict(test_heart_data)\n",
    "errors_train = roc_auc_score(train_heart_label, predictions_train)\n",
    "errors = roc_auc_score(test_heart_label, predictions)\n",
    "print(errors_train)\n",
    "print(errors)\n"
   ]
  },
  {
   "cell_type": "code",
   "execution_count": null,
   "metadata": {},
   "outputs": [],
   "source": [
    "export_graphviz(clf, out_file='tree_limited.dot', feature_names = columns,\n",
    "                rounded = True, proportion = False, precision = 2, filled = True)\n",
    "!dot -Tpng tree_limited.dot -o tree_limited.png -Gdpi=600\n",
    "Image(filename = 'tree_limited.png')"
   ]
  },
  {
   "cell_type": "code",
   "execution_count": null,
   "metadata": {},
   "outputs": [],
   "source": [
    "clf = DecisionTreeClassifier(max_depth = 7, min_samples_split = 5, min_samples_leaf = 4)\n",
    "clf.fit(train_heart_data, train_heart_label)\n",
    "predictions_train = clf.predict(train_heart_data)\n",
    "predictions = clf.predict(test_heart_data)\n",
    "predictions_proba = clf.predict_proba(test_heart_data)[:,1]\n",
    "errors_train = roc_auc_score(train_heart_label, predictions_train)\n",
    "errors = roc_auc_score(test_heart_label, predictions)\n",
    "print(errors_train)\n",
    "print(errors)"
   ]
  },
  {
   "cell_type": "code",
   "execution_count": null,
   "metadata": {},
   "outputs": [],
   "source": [
    "export_graphviz(clf, out_file='tree_limited.dot', feature_names = columns,\n",
    "                rounded = True, proportion = False, precision = 2, filled = True)\n",
    "!dot -Tpng tree_limited.dot -o tree_limited.png -Gdpi=600\n",
    "Image(filename = 'tree_limited.png')"
   ]
  },
  {
   "cell_type": "code",
   "execution_count": null,
   "metadata": {},
   "outputs": [],
   "source": [
    "fpr, tpr, thresholds = roc_curve(test_heart_label, predictions_proba)\n",
    "\n",
    "fig, ax = plt.subplots()\n",
    "ax.plot(fpr, tpr)\n",
    "ax.plot([0, 1], [0, 1], transform=ax.transAxes, ls=\"--\", c=\".3\")\n",
    "plt.xlim([0.0, 1.0])\n",
    "plt.ylim([0.0, 1.0])\n",
    "plt.rcParams['font.size'] = 12\n",
    "plt.title('ROC curve for diabetes classifier')\n",
    "plt.xlabel('False Positive Rate (1 - Specificity)')\n",
    "plt.ylabel('True Positive Rate (Sensitivity)')\n",
    "plt.grid(True)"
   ]
  },
  {
   "cell_type": "markdown",
   "metadata": {},
   "source": [
    "这个笔记本分析了导致动脉直径变窄的因素，这是一个重要的心脏病的迹象，以及这些因素在男性和女性之间的差异。一些诊断程序，如心电图结果和铊压力测试，似乎高度指示直径缩小。有趣的是，诸如胆固醇水平和血压这样的生理因素并不能对预测心脏病提供太多的洞察力，然而，这可能会受到限制女性数据的影响。在这本笔记本中发现，男女之间最大的区别是胆固醇水平，女性的胆固醇水平比男性高得多。注意，胆固醇可以是低密度脂蛋白(LDL)或高密度脂蛋白(HDL)的形式。低密度脂蛋白对身体有害，因为它会导致动脉斑块的形成，而高密度脂蛋白对身体有益。女性有较高的胆固醇水平，因为雌激素会提高高密度脂蛋白的水平，然而在更年期后高密度脂蛋白的水平下降，而低密度脂蛋白的水平上升(Michos, E.D.)。因此，更好的显示胆固醇水平的方法是分别显示低密度脂蛋白和高密度脂蛋白的水平。\n",
    "除了了解影响心脏病的因素外，该笔记本还构建了一个决策树模型来分类患者是否患有严重的心脏病。模型的ROC指数仅为0.78。虽然预测可能会受到有限数据的影响，但其他机器学习和统计模型可以用来确定预测心脏病的最佳方法。\n",
    "参考文献\n",
    "心脏压力测试综述。从https://www.healio.com/cardiology/learn-the-heart/cardiology-review/topic-reviews/stress-testing-review获取\n",
    "疾病控制和预防中心。“1999-2013年疾病预防控制中心WONDER在线数据库，2015年发布。”这些数据来自1999-2013年的多重死因档案，由57个生命统计管辖区通过生命统计合作项目提供的数据汇编而成。”(2015)。\n",
    "Demortier, l (2015)。项目McNulty:估计心脏病的风险。从https://lucdemortier.github.io/projects/3_mcnulty获取\n",
    "赫尔曼，L. K.，魏格特，S. D.，尹，Y. M.，基因，N. G.，纳尔逊，B. P.，希勒，P. L.，…和Henzlova, M. J.(2010)。典型与非典型或非心绞痛性胸痛急诊病人诱发性心肌缺血频率的比较。美国心脏病学杂志，105(11)，1561-1564。\n",
    "希尔，J.， &蒂米斯，A.(2002)。运动耐量测试。Bmj, 324 (7345), 1084 - 1087。\n",
    "Kashou, A. H.， & Kashou, H. E.(2017)。节奏,ST段。在StatPearls[网络]。StatPearls出版。\n",
    "Larson, E. D.， Clair, J. R. S.， Sumner, W. A.， Bannister, R. A.， & Proenza, C.(2013)。窦房结肌细胞的起搏器活性降低导致最大心率的年龄依赖性下降。美国国家科学院院刊，110(44)，18011-18016。\n",
    "为什么胆固醇对女性很重要?从https://www.hopkinsmedicine.org/health/wellness-and-prevention/why-cholesterol-matters-for-women获取\n",
    "MSDS超词汇表:无症状。从http://www.ilpi.com/msds/ref/asymptomatic.html获取\n",
    "Høegholm Wiinberg N。,。,克里斯坦森,h·R。爆炸,L . E。米凯尔森,k . L。尼尔森·E。…M. W. &本顿(1995)。352名正常丹麦受试者的24小时动态血压，与年龄和性别有关。美国高血压杂志，8(10)，978-986。"
   ]
  }
 ],
 "metadata": {
  "kernelspec": {
   "display_name": "Python 3",
   "language": "python",
   "name": "python3"
  },
  "language_info": {
   "codemirror_mode": {
    "name": "ipython",
    "version": 3
   },
   "file_extension": ".py",
   "mimetype": "text/x-python",
   "name": "python",
   "nbconvert_exporter": "python",
   "pygments_lexer": "ipython3",
   "version": "3.7.0"
  }
 },
 "nbformat": 4,
 "nbformat_minor": 2
}
